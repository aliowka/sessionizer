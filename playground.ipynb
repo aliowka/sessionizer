{
 "cells": [
  {
   "cell_type": "code",
   "execution_count": 2,
   "metadata": {},
   "outputs": [],
   "source": [
    "import os\n",
    "import pandas as pd\n",
    "\n",
    "csv_files = [\n",
    "        os.path.join(\"assignment\", \"input_1.csv\"),\n",
    "        os.path.join(\"assignment\", \"input_2.csv\"),\n",
    "        os.path.join(\"assignment\", \"input_3.csv\")\n",
    "    ]\n",
    "columns = [\"visitor_id\", \"site_url\", \"page_view_url\", \"timestamp\"]\n",
    "data_frame = pd.DataFrame()\n",
    "for csv_file in csv_files:\n",
    "    df = pd.read_csv(csv_file)\n",
    "    df.columns = columns\n",
    "    data_frame = data_frame.append(df)\n",
    "df = data_frame"
   ]
  },
  {
   "cell_type": "code",
   "execution_count": 3,
   "metadata": {},
   "outputs": [],
   "source": [
    "df.timestamp = pd.to_numeric(df.timestamp)"
   ]
  },
  {
   "cell_type": "code",
   "execution_count": 4,
   "metadata": {},
   "outputs": [
    {
     "output_type": "execute_result",
     "data": {
      "text/html": "<div>\n<style scoped>\n    .dataframe tbody tr th:only-of-type {\n        vertical-align: middle;\n    }\n\n    .dataframe tbody tr th {\n        vertical-align: top;\n    }\n\n    .dataframe thead th {\n        text-align: right;\n    }\n</style>\n<table border=\"1\" class=\"dataframe\">\n  <thead>\n    <tr style=\"text-align: right;\">\n      <th></th>\n      <th>visitor_id</th>\n      <th>site_url</th>\n      <th>page_view_url</th>\n      <th>timestamp</th>\n    </tr>\n  </thead>\n  <tbody>\n    <tr>\n      <th>0</th>\n      <td>visitor_3514</td>\n      <td>www.s_9.com</td>\n      <td>www.s_9.com/page_1</td>\n      <td>1347844451</td>\n    </tr>\n    <tr>\n      <th>1</th>\n      <td>visitor_4039</td>\n      <td>www.s_6.com</td>\n      <td>www.s_6.com/page_1</td>\n      <td>1347844452</td>\n    </tr>\n    <tr>\n      <th>2</th>\n      <td>visitor_437</td>\n      <td>www.s_8.com</td>\n      <td>www.s_8.com/page_1</td>\n      <td>1347844457</td>\n    </tr>\n    <tr>\n      <th>3</th>\n      <td>visitor_9857</td>\n      <td>www.s_6.com</td>\n      <td>www.s_6.com/page_1</td>\n      <td>1347844458</td>\n    </tr>\n    <tr>\n      <th>4</th>\n      <td>visitor_6574</td>\n      <td>www.s_9.com</td>\n      <td>www.s_9.com/page_1</td>\n      <td>1347844460</td>\n    </tr>\n    <tr>\n      <th>...</th>\n      <td>...</td>\n      <td>...</td>\n      <td>...</td>\n      <td>...</td>\n    </tr>\n    <tr>\n      <th>48752</th>\n      <td>visitor_9328</td>\n      <td>www.s_6.com</td>\n      <td>www.s_6.com/page_5</td>\n      <td>1347904973</td>\n    </tr>\n    <tr>\n      <th>48753</th>\n      <td>visitor_1222</td>\n      <td>www.s_9.com</td>\n      <td>www.s_9.com/page_6</td>\n      <td>1347905334</td>\n    </tr>\n    <tr>\n      <th>48754</th>\n      <td>visitor_1222</td>\n      <td>www.s_9.com</td>\n      <td>www.s_9.com/page_7</td>\n      <td>1347905512</td>\n    </tr>\n    <tr>\n      <th>48755</th>\n      <td>visitor_9328</td>\n      <td>www.s_6.com</td>\n      <td>www.s_6.com/page_7</td>\n      <td>1347905857</td>\n    </tr>\n    <tr>\n      <th>48756</th>\n      <td>visitor_8335</td>\n      <td>www.s_9.com</td>\n      <td>www.s_9.com/page_4</td>\n      <td>1347910665</td>\n    </tr>\n  </tbody>\n</table>\n<p>145964 rows × 4 columns</p>\n</div>",
      "text/plain": [
       "         visitor_id     site_url       page_view_url   timestamp\n",
       "0      visitor_3514  www.s_9.com  www.s_9.com/page_1  1347844451\n",
       "1      visitor_4039  www.s_6.com  www.s_6.com/page_1  1347844452\n",
       "2       visitor_437  www.s_8.com  www.s_8.com/page_1  1347844457\n",
       "3      visitor_9857  www.s_6.com  www.s_6.com/page_1  1347844458\n",
       "4      visitor_6574  www.s_9.com  www.s_9.com/page_1  1347844460\n",
       "...             ...          ...                 ...         ...\n",
       "48752  visitor_9328  www.s_6.com  www.s_6.com/page_5  1347904973\n",
       "48753  visitor_1222  www.s_9.com  www.s_9.com/page_6  1347905334\n",
       "48754  visitor_1222  www.s_9.com  www.s_9.com/page_7  1347905512\n",
       "48755  visitor_9328  www.s_6.com  www.s_6.com/page_7  1347905857\n",
       "48756  visitor_8335  www.s_9.com  www.s_9.com/page_4  1347910665\n",
       "\n",
       "[145964 rows x 4 columns]"
      ]
     },
     "metadata": {},
     "execution_count": 4
    }
   ],
   "source": [
    "df"
   ]
  },
  {
   "cell_type": "code",
   "execution_count": 5,
   "metadata": {},
   "outputs": [
    {
     "output_type": "execute_result",
     "data": {
      "text/plain": [
       "4160     1347845487\n",
       "7047     1347845963\n",
       "8905     1347846347\n",
       "2030     1347845105\n",
       "4294     1347845507\n",
       "            ...    \n",
       "33576    1347861429\n",
       "33945    1347861645\n",
       "34708    1347862111\n",
       "4383     1347845516\n",
       "7382     1347846021\n",
       "Name: timestamp, Length: 145964, dtype: int64"
      ]
     },
     "metadata": {},
     "execution_count": 5
    }
   ],
   "source": [
    "df.sort_values(by=['site_url', 'visitor_id', 'timestamp'])[\"timestamp\"]"
   ]
  },
  {
   "cell_type": "code",
   "execution_count": 6,
   "metadata": {},
   "outputs": [
    {
     "output_type": "execute_result",
     "data": {
      "text/html": "<div>\n<style scoped>\n    .dataframe tbody tr th:only-of-type {\n        vertical-align: middle;\n    }\n\n    .dataframe tbody tr th {\n        vertical-align: top;\n    }\n\n    .dataframe thead th {\n        text-align: right;\n    }\n</style>\n<table border=\"1\" class=\"dataframe\">\n  <thead>\n    <tr style=\"text-align: right;\">\n      <th></th>\n      <th>visitor_id</th>\n      <th>site_url</th>\n      <th>page_view_url</th>\n      <th>timestamp</th>\n    </tr>\n  </thead>\n  <tbody>\n    <tr>\n      <th>4160</th>\n      <td>visitor_1</td>\n      <td>www.s_1.com</td>\n      <td>www.s_1.com/page_1</td>\n      <td>1347845487</td>\n    </tr>\n    <tr>\n      <th>7047</th>\n      <td>visitor_1</td>\n      <td>www.s_1.com</td>\n      <td>www.s_1.com/page_2</td>\n      <td>1347845963</td>\n    </tr>\n    <tr>\n      <th>8905</th>\n      <td>visitor_1</td>\n      <td>www.s_1.com</td>\n      <td>www.s_1.com/page_3</td>\n      <td>1347846347</td>\n    </tr>\n    <tr>\n      <th>2030</th>\n      <td>visitor_1000</td>\n      <td>www.s_1.com</td>\n      <td>www.s_1.com/page_1</td>\n      <td>1347845105</td>\n    </tr>\n    <tr>\n      <th>4294</th>\n      <td>visitor_1000</td>\n      <td>www.s_1.com</td>\n      <td>www.s_1.com/page_2</td>\n      <td>1347845507</td>\n    </tr>\n    <tr>\n      <th>...</th>\n      <td>...</td>\n      <td>...</td>\n      <td>...</td>\n      <td>...</td>\n    </tr>\n    <tr>\n      <th>33576</th>\n      <td>visitor_9998</td>\n      <td>www.s_9.com</td>\n      <td>www.s_9.com/page_4</td>\n      <td>1347861429</td>\n    </tr>\n    <tr>\n      <th>33945</th>\n      <td>visitor_9998</td>\n      <td>www.s_9.com</td>\n      <td>www.s_9.com/page_5</td>\n      <td>1347861645</td>\n    </tr>\n    <tr>\n      <th>34708</th>\n      <td>visitor_9998</td>\n      <td>www.s_9.com</td>\n      <td>www.s_9.com/page_6</td>\n      <td>1347862111</td>\n    </tr>\n    <tr>\n      <th>4383</th>\n      <td>visitor_9999</td>\n      <td>www.s_9.com</td>\n      <td>www.s_9.com/page_1</td>\n      <td>1347845516</td>\n    </tr>\n    <tr>\n      <th>7382</th>\n      <td>visitor_9999</td>\n      <td>www.s_9.com</td>\n      <td>www.s_9.com/page_2</td>\n      <td>1347846021</td>\n    </tr>\n  </tbody>\n</table>\n<p>145964 rows × 4 columns</p>\n</div>",
      "text/plain": [
       "         visitor_id     site_url       page_view_url   timestamp\n",
       "4160      visitor_1  www.s_1.com  www.s_1.com/page_1  1347845487\n",
       "7047      visitor_1  www.s_1.com  www.s_1.com/page_2  1347845963\n",
       "8905      visitor_1  www.s_1.com  www.s_1.com/page_3  1347846347\n",
       "2030   visitor_1000  www.s_1.com  www.s_1.com/page_1  1347845105\n",
       "4294   visitor_1000  www.s_1.com  www.s_1.com/page_2  1347845507\n",
       "...             ...          ...                 ...         ...\n",
       "33576  visitor_9998  www.s_9.com  www.s_9.com/page_4  1347861429\n",
       "33945  visitor_9998  www.s_9.com  www.s_9.com/page_5  1347861645\n",
       "34708  visitor_9998  www.s_9.com  www.s_9.com/page_6  1347862111\n",
       "4383   visitor_9999  www.s_9.com  www.s_9.com/page_1  1347845516\n",
       "7382   visitor_9999  www.s_9.com  www.s_9.com/page_2  1347846021\n",
       "\n",
       "[145964 rows x 4 columns]"
      ]
     },
     "metadata": {},
     "execution_count": 6
    }
   ],
   "source": [
    "df.sort_values(by=['site_url', 'visitor_id', 'timestamp'])"
   ]
  },
  {
   "cell_type": "code",
   "execution_count": 7,
   "metadata": {},
   "outputs": [
    {
     "output_type": "execute_result",
     "data": {
      "text/plain": [
       "{'www.s_1.com': [4160, 7047, 8905, 2030, 4294, 7295, 46353, 46794, 47132, 35181, 35981, 37537, 38265, 39933, 40496, 41270, 47693, 47813, 45830, 46202, 46535, 46942, 25873, 27766, 1877, 4598, 7668, 8777, 10961, 12606, 27924, 29605, 31621, 32812, 33761, 34439, 916, 2741, 46074, 46411, 15049, 17970, 19561, 21372, 22973, 24087, 311, 1483, 4666, 6507, 8929, 26664, 28869, 30322, 31839, 33233, 34076, 41987, 42725, 43581, 44038, 44830, 45142, 45439, 4955, 7111, 10084, 10898, 12622, 13211, 13407, 211, 2203, 4290, 6219, 8742, 11156, 616, 2548, 5202, 8134, 9619, 42171, 43043, 43713, 44579, 45174, 45325, 45487, 29444, 31170, 32673, 33707, 34213, 34719, 35020, 646, 2690, 5501, 8164, ...], 'www.s_10.com': [13321, 14254, 16957, 464, 1998, 5403, 16871, 18920, 21044, 22945, 25825, 27272, 29662, 30439, 2932, 6035, 8211, 10569, 11717, 12385, 13243, 28164, 29866, 27549, 29433, 31170, 32889, 33481, 34367, 34878, 37306, 38215, 39512, 26269, 27579, 30249, 31770, 33064, 47771, 47924, 48242, 48228, 48410, 15609, 18380, 20629, 21657, 738, 2797, 5229, 7824, 9530, 27697, 30066, 31818, 32746, 15861, 18978, 20747, 22716, 23811, 24789, 25098, 1487, 3790, 6728, 8714, 10690, 45821, 46226, 46762, 46998, 47169, 47352, 47486, 14877, 17473, 19570, 21936, 36645, 5526, 7472, 35081, 35764, 37444, 38171, 15923, 18353, 20558, 22805, 23778, 203, 1675, 193, 1600, 3780, 7623, 9389, 10685, 12135, ...], 'www.s_2.com': [29072, 31245, 32543, 33405, 34255, 35319, 36325, 37629, 38924, 39999, 43191, 44041, 667, 26255, 35224, 36274, 37613, 38762, 40301, 42805, 43533, 36826, 38238, 28060, 29884, 31484, 33279, 33598, 34413, 34732, 14586, 45661, 45842, 46124, 434, 2199, 5249, 7787, 14383, 2733, 35762, 36800, 38565, 39760, 40703, 41023, 3097, 35387, 36325, 38131, 39105, 39835, 40686, 35002, 15767, 18705, 21016, 22741, 23800, 25418, 26389, 28742, 30264, 31346, 36543, 38390, 39485, 40189, 26353, 28655, 30413, 31489, 33303, 33902, 34585, 2872, 5837, 7970, 9853, 11990, 42708, 43482, 14713, 46114, 46570, 46927, 47242, 47310, 15934, 18731, 25714, 26875, 28924, 31161, 32294, 33498, 2395, 5155, 18455, 20801, ...], 'www.s_3.com': [26142, 27701, 29674, 31734, 32802, 33899, 42265, 43068, 43997, 44581, 45116, 45373, 3653, 6257, 8948, 10056, 12177, 15913, 18090, 19979, 22485, 23472, 14580, 16590, 18368, 21211, 22484, 23979, 24468, 2628, 4916, 7567, 9581, 13559, 14858, 17617, 19645, 26593, 28123, 29900, 31551, 33403, 34046, 34802, 14162, 16349, 18965, 20344, 22374, 36559, 47622, 47822, 47962, 48166, 36626, 17857, 19898, 22338, 23818, 24626, 25044, 25277, 4238, 6337, 8775, 10705, 18073, 25865, 27099, 29640, 30555, 32871, 33635, 34147, 13862, 15664, 37156, 38733, 39800, 29038, 30807, 32245, 33687, 34331, 35357, 36425, 37896, 38540, 39579, 40436, 41386, 35261, 36427, 37581, 39137, 40210, 40513, 251, 1586, 4913, ...], 'www.s_4.com': [42013, 42467, 43598, 44183, 28074, 36179, 37721, 38747, 40137, 40664, 41142, 41631, 13483, 14478, 41835, 42314, 43316, 43819, 5737, 7761, 13609, 14618, 17101, 19437, 21340, 45766, 45955, 46505, 46701, 47071, 48574, 48404, 48443, 1415, 3763, 6925, 28159, 30145, 31675, 32858, 17985, 20046, 22532, 23587, 1369, 3730, 7162, 9177, 10416, 12414, 26028, 27246, 36635, 37893, 39249, 40238, 41066, 46128, 46590, 46965, 47233, 47532, 13640, 15384, 14051, 16018, 17863, 21053, 28554, 30502, 32315, 33354, 34041, 34515, 35745, 36755, 38086, 39226, 40379, 40693, 41227, 37391, 38503, 39790, 16689, 19585, 21385, 23556, 24038, 24876, 25369, 600, 2442, 5252, 8033, 1143, 3550, 6774, 8437, 10552, ...], 'www.s_5.com': [15137, 17178, 20004, 21821, 23211, 2771, 5537, 7622, 27979, 30014, 31315, 35128, 35630, 37164, 38578, 39530, 13826, 14816, 17871, 391, 1323, 3549, 6857, 9375, 36716, 37961, 26323, 27794, 29569, 25830, 27230, 28715, 30711, 32285, 1089, 3800, 6443, 8022, 9768, 11836, 36618, 38124, 39034, 40470, 41108, 41225, 41414, 14365, 16881, 2945, 5955, 8544, 10072, 671, 2346, 5859, 7185, 10239, 28844, 30927, 32241, 33503, 25699, 26367, 27215, 36888, 38295, 39195, 450, 2263, 4698, 7394, 9863, 11445, 43306, 35663, 36931, 38022, 39375, 42659, 43624, 44156, 44706, 45312, 45470, 45645, 3622, 6844, 9284, 10872, 12103, 45850, 46194, 46768, 46986, 47422, 42971, 43770, 44444, 45018, ...], 'www.s_6.com': [34899, 35841, 2464, 5248, 8043, 9832, 11619, 16510, 19508, 20782, 17689, 42121, 42950, 43817, 44578, 44671, 45291, 45467, 2738, 6177, 8504, 9862, 3937, 7036, 8915, 10443, 12276, 12790, 13082, 13653, 36274, 37168, 38756, 39441, 40574, 43313, 43808, 44527, 16469, 19362, 21487, 35081, 35506, 37023, 36777, 38190, 39409, 28281, 30121, 32282, 33325, 34199, 15946, 18998, 41950, 42321, 43148, 43791, 44594, 45154, 45429, 4598, 6552, 9063, 1005, 2743, 5384, 8954, 10437, 13864, 15221, 17995, 19699, 21523, 23936, 24147, 25561, 27006, 28745, 30426, 2407, 5768, 7874, 46402, 46776, 26144, 47689, 47875, 48208, 48183, 48205, 14963, 17562, 19833, 22149, 23697, 24589, 35852, 37053, 38349, ...], 'www.s_7.com': [1659, 4493, 14195, 16728, 19340, 21509, 22405, 24016, 24474, 8, 28754, 30218, 32177, 14275, 16230, 19197, 20553, 22418, 48426, 48583, 48523, 48560, 48684, 48602, 4725, 7545, 8811, 946, 3595, 5890, 8520, 290, 1889, 4185, 7358, 17136, 19797, 21212, 22766, 23835, 24660, 42737, 43350, 44091, 44917, 45298, 45529, 5071, 2416, 5815, 7325, 10248, 16208, 18846, 20877, 22814, 23746, 24635, 1965, 4071, 7077, 9862, 10786, 25710, 26773, 29311, 31392, 32564, 4553, 6502, 26544, 28554, 30805, 31765, 32935, 34157, 4143, 6579, 9194, 10209, 12068, 12947, 13361, 43012, 43450, 44349, 45047, 45117, 45516, 41779, 14070, 3492, 5891, 9201, 79, 1188, 43231, 43972, 44518, 45083, ...], 'www.s_8.com': [16035, 18996, 20277, 22311, 23553, 26699, 28648, 3406, 6588, 9047, 10424, 15906, 17762, 20884, 22370, 25996, 27093, 15508, 18333, 19946, 22163, 24026, 24299, 24894, 3283, 6450, 14522, 16839, 19015, 42324, 42701, 43489, 44515, 14336, 17122, 18620, 20868, 23367, 24458, 24589, 2673, 4825, 13670, 14407, 17308, 19403, 21539, 22809, 13804, 15202, 16777, 20066, 21914, 23166, 24209, 13853, 14971, 17692, 19798, 22086, 23526, 24487, 25076, 28746, 30601, 32496, 33263, 45842, 46255, 46649, 47005, 47061, 47373, 47531, 41852, 41918, 42955, 43893, 44346, 15423, 18124, 19758, 22317, 23678, 24635, 14071, 15874, 17951, 19884, 21962, 160, 1407, 4039, 6728, 9100, 36412, 37879, 28410, 30036, 16193, ...], 'www.s_9.com': [14527, 16431, 19479, 45941, 46340, 46741, 16151, 18079, 20543, 22573, 1061, 668, 2839, 5010, 7394, 10052, 11540, 12727, 25682, 26759, 29348, 45724, 45972, 46226, 46639, 46988, 5608, 36708, 38150, 39479, 40258, 40545, 41202, 41515, 1581, 4073, 6648, 8869, 11483, 12606, 42379, 43317, 43898, 44506, 45035, 45249, 26881, 29059, 30144, 31795, 33167, 34370, 34759, 3198, 6229, 8760, 26236, 27923, 29906, 31472, 32919, 33801, 34410, 42393, 43198, 43968, 43157, 43585, 44565, 45089, 45312, 45577, 45624, 36973, 38515, 39687, 40107, 41193, 41303, 26937, 28668, 30551, 16598, 19772, 21438, 25515, 13785, 14764, 17249, 27030, 28378, 42984, 15110, 18139, 19963, 22258, 23303, 42141, 2728, 5323, ...]}"
      ]
     },
     "metadata": {},
     "execution_count": 7
    }
   ],
   "source": [
    "df.sort_values(by=['site_url', 'visitor_id', 'timestamp']).groupby(\"site_url\").groups"
   ]
  },
  {
   "cell_type": "code",
   "execution_count": 8,
   "metadata": {},
   "outputs": [
    {
     "output_type": "execute_result",
     "data": {
      "text/html": "<div>\n<style scoped>\n    .dataframe tbody tr th:only-of-type {\n        vertical-align: middle;\n    }\n\n    .dataframe tbody tr th {\n        vertical-align: top;\n    }\n\n    .dataframe thead th {\n        text-align: right;\n    }\n</style>\n<table border=\"1\" class=\"dataframe\">\n  <thead>\n    <tr style=\"text-align: right;\">\n      <th></th>\n      <th>visitor_id</th>\n      <th>site_url</th>\n      <th>page_view_url</th>\n      <th>timestamp</th>\n    </tr>\n  </thead>\n  <tbody>\n    <tr>\n      <th>0</th>\n      <td>visitor_3514</td>\n      <td>www.s_9.com</td>\n      <td>www.s_9.com/page_1</td>\n      <td>1347844451</td>\n    </tr>\n    <tr>\n      <th>4</th>\n      <td>visitor_6574</td>\n      <td>www.s_9.com</td>\n      <td>www.s_9.com/page_1</td>\n      <td>1347844460</td>\n    </tr>\n    <tr>\n      <th>18</th>\n      <td>visitor_9046</td>\n      <td>www.s_9.com</td>\n      <td>www.s_9.com/page_1</td>\n      <td>1347844475</td>\n    </tr>\n    <tr>\n      <th>21</th>\n      <td>visitor_7741</td>\n      <td>www.s_9.com</td>\n      <td>www.s_9.com/page_1</td>\n      <td>1347844479</td>\n    </tr>\n    <tr>\n      <th>34</th>\n      <td>visitor_32</td>\n      <td>www.s_9.com</td>\n      <td>www.s_9.com/page_1</td>\n      <td>1347844495</td>\n    </tr>\n    <tr>\n      <th>...</th>\n      <td>...</td>\n      <td>...</td>\n      <td>...</td>\n      <td>...</td>\n    </tr>\n    <tr>\n      <th>48748</th>\n      <td>visitor_1222</td>\n      <td>www.s_9.com</td>\n      <td>www.s_9.com/page_4</td>\n      <td>1347904371</td>\n    </tr>\n    <tr>\n      <th>48750</th>\n      <td>visitor_4363</td>\n      <td>www.s_9.com</td>\n      <td>www.s_9.com/page_5</td>\n      <td>1347904508</td>\n    </tr>\n    <tr>\n      <th>48753</th>\n      <td>visitor_1222</td>\n      <td>www.s_9.com</td>\n      <td>www.s_9.com/page_6</td>\n      <td>1347905334</td>\n    </tr>\n    <tr>\n      <th>48754</th>\n      <td>visitor_1222</td>\n      <td>www.s_9.com</td>\n      <td>www.s_9.com/page_7</td>\n      <td>1347905512</td>\n    </tr>\n    <tr>\n      <th>48756</th>\n      <td>visitor_8335</td>\n      <td>www.s_9.com</td>\n      <td>www.s_9.com/page_4</td>\n      <td>1347910665</td>\n    </tr>\n  </tbody>\n</table>\n<p>14797 rows × 4 columns</p>\n</div>",
      "text/plain": [
       "         visitor_id     site_url       page_view_url   timestamp\n",
       "0      visitor_3514  www.s_9.com  www.s_9.com/page_1  1347844451\n",
       "4      visitor_6574  www.s_9.com  www.s_9.com/page_1  1347844460\n",
       "18     visitor_9046  www.s_9.com  www.s_9.com/page_1  1347844475\n",
       "21     visitor_7741  www.s_9.com  www.s_9.com/page_1  1347844479\n",
       "34       visitor_32  www.s_9.com  www.s_9.com/page_1  1347844495\n",
       "...             ...          ...                 ...         ...\n",
       "48748  visitor_1222  www.s_9.com  www.s_9.com/page_4  1347904371\n",
       "48750  visitor_4363  www.s_9.com  www.s_9.com/page_5  1347904508\n",
       "48753  visitor_1222  www.s_9.com  www.s_9.com/page_6  1347905334\n",
       "48754  visitor_1222  www.s_9.com  www.s_9.com/page_7  1347905512\n",
       "48756  visitor_8335  www.s_9.com  www.s_9.com/page_4  1347910665\n",
       "\n",
       "[14797 rows x 4 columns]"
      ]
     },
     "metadata": {},
     "execution_count": 8
    }
   ],
   "source": [
    "df.groupby(\"site_url\").get_group('www.s_9.com')"
   ]
  },
  {
   "cell_type": "code",
   "execution_count": 9,
   "metadata": {},
   "outputs": [
    {
     "output_type": "execute_result",
     "data": {
      "text/plain": [
       "True"
      ]
     },
     "metadata": {},
     "execution_count": 9
    }
   ],
   "source": [
    "df.groupby(\"site_url\").get_group('www.s_9.com').sort_values(by=['visitor_id', 'timestamp'])[\"visitor_id\"].is_monotonic"
   ]
  },
  {
   "cell_type": "code",
   "execution_count": 10,
   "metadata": {},
   "outputs": [
    {
     "output_type": "execute_result",
     "data": {
      "text/plain": [
       "{('www.s_1.com', 'visitor_1'): [4160, 7047, 8905], ('www.s_1.com', 'visitor_1000'): [4294, 2030, 7295], ('www.s_1.com', 'visitor_10000'): [46353, 46794, 47132], ('www.s_1.com', 'visitor_1002'): [35981, 37537, 39933, 47813, 41270, 47693, 35181, 38265, 40496], ('www.s_1.com', 'visitor_1009'): [45830, 46535, 46942, 46202], ('www.s_1.com', 'visitor_1020'): [27766, 25873], ('www.s_1.com', 'visitor_1021'): [12606, 4598, 8777, 1877, 7668, 10961], ('www.s_1.com', 'visitor_1025'): [33761, 34439, 27924, 29605, 31621, 32812], ('www.s_1.com', 'visitor_1026'): [2741, 916], ('www.s_1.com', 'visitor_1028'): [46411, 46074], ('www.s_1.com', 'visitor_103'): [19561, 24087, 15049, 17970, 21372, 22973], ('www.s_1.com', 'visitor_1033'): [1483, 6507, 30322, 8929, 33233, 311, 4666, 26664, 28869, 31839, 34076, 41987], ('www.s_1.com', 'visitor_1034'): [43581, 44038, 45439, 45142, 42725, 44830], ('www.s_1.com', 'visitor_1037'): [7111, 4955, 10084, 10898, 13211, 12622, 13407], ('www.s_1.com', 'visitor_1039'): [211, 4290, 8742, 11156, 2203, 6219], ('www.s_1.com', 'visitor_104'): [616, 2548, 9619, 42171, 43713, 44579, 5202, 8134, 45174, 45325, 45487, 43043], ('www.s_1.com', 'visitor_1047'): [29444, 31170, 35020, 32673, 33707, 34213, 34719], ('www.s_1.com', 'visitor_1050'): [11804, 5501, 12182, 646, 2690, 8164, 10719], ('www.s_1.com', 'visitor_1052'): [27929, 29921, 16312, 18642, 21241], ('www.s_1.com', 'visitor_1053'): [40364, 38295, 39754, 37120, 40868], ('www.s_1.com', 'visitor_1055'): [6517, 10818, 9084, 3779], ('www.s_1.com', 'visitor_1056'): [26220, 40108, 40794, 27557, 36464, 37932, 39268, 25451], ('www.s_1.com', 'visitor_106'): [20064, 18117, 21797], ('www.s_1.com', 'visitor_1061'): [26475, 28560], ('www.s_1.com', 'visitor_1065'): [41740], ('www.s_1.com', 'visitor_1066'): [10446, 19926, 906, 2316, 5710, 8284, 11501, 15410, 17018], ('www.s_1.com', 'visitor_1068'): [5919, 8997, 10216, 3564, 1189], ('www.s_1.com', 'visitor_1069'): [12126, 19724, 22882, 24334, 4583, 9558, 10771, 13161, 13388, 14658, 17243, 21230, 25100, 7631], ('www.s_1.com', 'visitor_1071'): [28092, 29807, 31393], ('www.s_1.com', 'visitor_1072'): [36080, 40671, 37755, 38989, 39409], ('www.s_1.com', 'visitor_1073'): [46302, 46844, 47176, 47449, 47590], ('www.s_1.com', 'visitor_1076'): [1457], ('www.s_1.com', 'visitor_1077'): [2875, 5603, 7978, 9672], ('www.s_1.com', 'visitor_1078'): [2993, 5566, 8259], ('www.s_1.com', 'visitor_1081'): [39675, 40798, 36136, 37583, 38455, 40783, 41421], ('www.s_1.com', 'visitor_1082'): [14516, 21356, 22428, 16554, 13505, 18557], ('www.s_1.com', 'visitor_1085'): [9863, 14159, 18956, 27706, 2897, 5875, 8474, 16328], ('www.s_1.com', 'visitor_1086'): [20135, 22400, 23630, 18143], ('www.s_1.com', 'visitor_1088'): [28815], ('www.s_1.com', 'visitor_109'): [16481, 19308, 21159, 14451, 23179, 24133, 25075], ('www.s_1.com', 'visitor_1097'): [9086, 3550, 6438, 10769, 11958, 12567], ('www.s_1.com', 'visitor_1108'): [14127, 16322, 20728, 22704, 23524, 24912, 18719], ('www.s_1.com', 'visitor_1112'): [28955, 18497, 20541, 23054, 23590, 24649, 14191, 15796, 30311, 31982], ('www.s_1.com', 'visitor_1118'): [13747, 15025, 18185], ('www.s_1.com', 'visitor_1119'): [6051, 9109, 11658, 15003, 17670, 20680, 1118, 3090, 9994], ('www.s_1.com', 'visitor_1121'): [35085, 35760], ('www.s_1.com', 'visitor_1122'): [17427, 19494], ('www.s_1.com', 'visitor_1124'): [25889, 27301, 20534, 18179, 29040], ('www.s_1.com', 'visitor_1126'): [1833, 4709, 10574, 11922, 17994, 697, 13721, 15203, 21376, 22935, 8012, 9480, 19869], ('www.s_1.com', 'visitor_1127'): [13686, 18201, 21193, 15861, 23722, 20691, 24234], ('www.s_1.com', 'visitor_1130'): [4955, 2176, 9102, 7867], ('www.s_1.com', 'visitor_1133'): [30847, 34232, 34607, 41628, 42915, 29575, 43863, 44645, 27458, 32615, 33286, 42393], ('www.s_1.com', 'visitor_1134'): [18220, 20546, 22360, 23789, 15541, 24365], ('www.s_1.com', 'visitor_1137'): [3360, 25882, 5792, 8800], ('www.s_1.com', 'visitor_1144'): [267, 4571, 2511, 7549], ('www.s_1.com', 'visitor_115'): [16823, 21721, 25201, 24941, 19346, 23260, 23891], ('www.s_1.com', 'visitor_1150'): [19880, 22897, 24229, 17751, 21724], ('www.s_1.com', 'visitor_1152'): [13646, 19439, 15030, 17099, 21524], ('www.s_1.com', 'visitor_1156'): [43519, 44746, 42641, 41954, 44061], ('www.s_1.com', 'visitor_1159'): [27475, 29741], ('www.s_1.com', 'visitor_1162'): [31855, 26403, 33176, 34811, 27526, 30322, 33969], ('www.s_1.com', 'visitor_1163'): [35162, 38653, 36276, 37397], ('www.s_1.com', 'visitor_1169'): [3240, 6614, 8413, 10299], ('www.s_1.com', 'visitor_117'): [48175, 47861, 48171, 47808, 48116, 48450], ('www.s_1.com', 'visitor_1170'): [37722, 39038], ('www.s_1.com', 'visitor_1172'): [16383, 18787, 21110, 14559], ('www.s_1.com', 'visitor_1177'): [1700, 3961], ('www.s_1.com', 'visitor_118'): [32591, 34058, 34693, 29462, 33989, 35030, 31277], ('www.s_1.com', 'visitor_1180'): [239, 1732], ('www.s_1.com', 'visitor_1181'): [35911, 36987, 39056, 39730, 35169, 40272], ('www.s_1.com', 'visitor_1182'): [3329, 1211], ('www.s_1.com', 'visitor_1184'): [4969, 8203, 11404, 12728, 9769, 13136], ('www.s_1.com', 'visitor_1187'): [2646], ('www.s_1.com', 'visitor_1189'): [5799, 7735, 12910, 13327, 3184, 10640, 11972], ('www.s_1.com', 'visitor_1193'): [34960], ('www.s_1.com', 'visitor_1195'): [13863, 15563], ('www.s_1.com', 'visitor_1197'): [1483, 421], ('www.s_1.com', 'visitor_1198'): [894, 3446, 6023, 8182, 10830], ('www.s_1.com', 'visitor_12'): [28793, 30710, 26574], ('www.s_1.com', 'visitor_1202'): [31923, 33006, 34652, 26164, 28216, 30441, 33863], ('www.s_1.com', 'visitor_1204'): [14902], ('www.s_1.com', 'visitor_1205'): [28743, 30509, 33137, 31790], ('www.s_1.com', 'visitor_1207'): [16119, 22408, 14157, 18624, 21101, 23882], ('www.s_1.com', 'visitor_121'): [22940, 48338, 48390, 48454, 21989, 24191, 48529, 16964, 19821], ('www.s_1.com', 'visitor_1211'): [22150, 18209, 23604, 24773, 20047], ('www.s_1.com', 'visitor_1215'): [45800, 46656, 45664, 47004, 46220], ('www.s_1.com', 'visitor_1216'): [2199, 4873, 7499, 28159, 9930, 11434], ('www.s_1.com', 'visitor_1217'): [14408, 18730, 35807, 36933, 16350, 38172, 20565, 39679, 40324, 41157], ('www.s_1.com', 'visitor_1218'): [3634], ('www.s_1.com', 'visitor_122'): [17257, 20196], ('www.s_1.com', 'visitor_1221'): [918], ('www.s_1.com', 'visitor_1222'): [41213, 41461, 48020, 48129, 38638, 39531, 47914, 48271, 37007, 40624, 41070, 47851], ('www.s_1.com', 'visitor_1223'): [25923, 31104, 32846, 34497, 27365, 29551, 33425], ('www.s_1.com', 'visitor_1224'): [2145, 4606, 12146, 27894, 33032, 34313, 7639, 10073, 29481, 33765, 669, 11961, 31411], ('www.s_1.com', 'visitor_1228'): [45946, 46703, 46367, 47170], ('www.s_1.com', 'visitor_1229'): [4087, 9413, 12202, 12881, 10928, 6426], ('www.s_1.com', 'visitor_1232'): [34924, 35546, 36741, 40261, 39486, 38266, 40905], ('www.s_1.com', 'visitor_1235'): [37134], ('www.s_1.com', 'visitor_1239'): [47599, 48048, 47831, 48047, 48346, 48373], ('www.s_1.com', 'visitor_124'): [13715], ...}"
      ]
     },
     "metadata": {},
     "execution_count": 10
    }
   ],
   "source": [
    "df.groupby([\"site_url\", \"visitor_id\"]).groups"
   ]
  },
  {
   "cell_type": "code",
   "execution_count": 11,
   "metadata": {},
   "outputs": [
    {
     "output_type": "execute_result",
     "data": {
      "text/html": "<div>\n<style scoped>\n    .dataframe tbody tr th:only-of-type {\n        vertical-align: middle;\n    }\n\n    .dataframe tbody tr th {\n        vertical-align: top;\n    }\n\n    .dataframe thead th {\n        text-align: right;\n    }\n</style>\n<table border=\"1\" class=\"dataframe\">\n  <thead>\n    <tr style=\"text-align: right;\">\n      <th></th>\n      <th>visitor_id</th>\n      <th>site_url</th>\n      <th>page_view_url</th>\n      <th>timestamp</th>\n    </tr>\n  </thead>\n  <tbody>\n    <tr>\n      <th>4160</th>\n      <td>visitor_1</td>\n      <td>www.s_1.com</td>\n      <td>www.s_1.com/page_1</td>\n      <td>1347845487</td>\n    </tr>\n    <tr>\n      <th>7047</th>\n      <td>visitor_1</td>\n      <td>www.s_1.com</td>\n      <td>www.s_1.com/page_2</td>\n      <td>1347845963</td>\n    </tr>\n    <tr>\n      <th>8905</th>\n      <td>visitor_1</td>\n      <td>www.s_1.com</td>\n      <td>www.s_1.com/page_3</td>\n      <td>1347846347</td>\n    </tr>\n  </tbody>\n</table>\n</div>",
      "text/plain": [
       "     visitor_id     site_url       page_view_url   timestamp\n",
       "4160  visitor_1  www.s_1.com  www.s_1.com/page_1  1347845487\n",
       "7047  visitor_1  www.s_1.com  www.s_1.com/page_2  1347845963\n",
       "8905  visitor_1  www.s_1.com  www.s_1.com/page_3  1347846347"
      ]
     },
     "metadata": {},
     "execution_count": 11
    }
   ],
   "source": [
    "df.groupby([\"site_url\", \"visitor_id\"]).get_group(('www.s_1.com', 'visitor_1'))"
   ]
  },
  {
   "cell_type": "code",
   "execution_count": 12,
   "metadata": {},
   "outputs": [],
   "source": [
    "grouped = df[df.site_url == \"www.s_1.com\"].groupby('visitor_id')"
   ]
  },
  {
   "cell_type": "code",
   "execution_count": 46,
   "metadata": {
    "tags": []
   },
   "outputs": [
    {
     "output_type": "stream",
     "name": "stdout",
     "text": [
      "4.642124176025391\n"
     ]
    }
   ],
   "source": [
    "import time\n",
    "sessions = []\n",
    "session_id = 0\n",
    "st = time.time()\n",
    "for group in grouped.groups:\n",
    "    session_id += 1\n",
    "    site_visitor_visits = grouped.get_group(group)\n",
    "    site_visitor_visits = site_visitor_visits.sort_values(by=['timestamp'])\n",
    "    session_start = site_visitor_visits.iloc[0].timestamp\n",
    "    prev_timestamp = session_start\n",
    "    # for e in site_visitor_visits.iterrows():\n",
    "    #     session_duration = e[1].timestamp - session_start\n",
    "    site_visitor_visits['session_duration'] = site_visitor_visits.timestamp - session_start\n",
    "\n",
    "    #     if e[1].timestamp - prev_timestamp > 60 * 30:\n",
    "    #         session_id += 1\n",
    "    #         session_start = e[1].timestamp\n",
    "    #         session_duration = 0\n",
    "    #     prev_timestamp = e[1].timestamp\n",
    "    #     # session_id = \"-\".join([e[1].site_url, e[1].visitor_id, str(session_id)])\n",
    "    #     sessions.append((e[1].site_url, e[1].visitor_id, session_id, e[1].timestamp, session_duration))\n",
    "        \n",
    "print(time.time() - st)"
   ]
  },
  {
   "cell_type": "code",
   "execution_count": 40,
   "metadata": {},
   "outputs": [
    {
     "output_type": "execute_result",
     "data": {
      "text/html": "<div>\n<style scoped>\n    .dataframe tbody tr th:only-of-type {\n        vertical-align: middle;\n    }\n\n    .dataframe tbody tr th {\n        vertical-align: top;\n    }\n\n    .dataframe thead th {\n        text-align: right;\n    }\n</style>\n<table border=\"1\" class=\"dataframe\">\n  <thead>\n    <tr style=\"text-align: right;\">\n      <th></th>\n      <th>visitor_id</th>\n      <th>site_url</th>\n      <th>page_view_url</th>\n      <th>timestamp</th>\n    </tr>\n  </thead>\n  <tbody>\n    <tr>\n      <th>4160</th>\n      <td>visitor_1</td>\n      <td>www.s_1.com</td>\n      <td>www.s_1.com/page_1</td>\n      <td>1347845487</td>\n    </tr>\n    <tr>\n      <th>7047</th>\n      <td>visitor_1</td>\n      <td>www.s_1.com</td>\n      <td>www.s_1.com/page_2</td>\n      <td>1347845963</td>\n    </tr>\n    <tr>\n      <th>8905</th>\n      <td>visitor_1</td>\n      <td>www.s_1.com</td>\n      <td>www.s_1.com/page_3</td>\n      <td>1347846347</td>\n    </tr>\n  </tbody>\n</table>\n</div>",
      "text/plain": [
       "     visitor_id     site_url       page_view_url   timestamp\n",
       "4160  visitor_1  www.s_1.com  www.s_1.com/page_1  1347845487\n",
       "7047  visitor_1  www.s_1.com  www.s_1.com/page_2  1347845963\n",
       "8905  visitor_1  www.s_1.com  www.s_1.com/page_3  1347846347"
      ]
     },
     "metadata": {},
     "execution_count": 40
    }
   ],
   "source": [
    "site_visitor_visits"
   ]
  },
  {
   "cell_type": "code",
   "execution_count": 22,
   "metadata": {},
   "outputs": [],
   "source": [
    "sessions_df = pd.DataFrame.from_records(sessions, columns=['site_url', \n",
    "    'visitor_id', 'session_id', 'timestamp', 'session_duration'])"
   ]
  },
  {
   "cell_type": "code",
   "execution_count": 23,
   "metadata": {},
   "outputs": [
    {
     "output_type": "execute_result",
     "data": {
      "text/plain": [
       "1353.0"
      ]
     },
     "metadata": {},
     "execution_count": 23
    }
   ],
   "source": [
    "sessions_df.groupby('session_id').last().session_duration.median()"
   ]
  },
  {
   "cell_type": "code",
   "execution_count": 24,
   "metadata": {},
   "outputs": [
    {
     "output_type": "execute_result",
     "data": {
      "text/plain": [
       "3684"
      ]
     },
     "metadata": {},
     "execution_count": 24
    }
   ],
   "source": [
    "len(sessions_df.groupby('session_id'))"
   ]
  },
  {
   "cell_type": "code",
   "execution_count": 25,
   "metadata": {},
   "outputs": [
    {
     "output_type": "execute_result",
     "data": {
      "text/html": "<div>\n<style scoped>\n    .dataframe tbody tr th:only-of-type {\n        vertical-align: middle;\n    }\n\n    .dataframe tbody tr th {\n        vertical-align: top;\n    }\n\n    .dataframe thead th {\n        text-align: right;\n    }\n</style>\n<table border=\"1\" class=\"dataframe\">\n  <thead>\n    <tr style=\"text-align: right;\">\n      <th></th>\n      <th></th>\n      <th>page_view_url</th>\n      <th>timestamp</th>\n    </tr>\n    <tr>\n      <th>visitor_id</th>\n      <th>site_url</th>\n      <th></th>\n      <th></th>\n    </tr>\n  </thead>\n  <tbody>\n    <tr>\n      <th rowspan=\"3\" valign=\"top\">visitor_1</th>\n      <th>www.s_1.com</th>\n      <td>3</td>\n      <td>3</td>\n    </tr>\n    <tr>\n      <th>www.s_10.com</th>\n      <td>3</td>\n      <td>3</td>\n    </tr>\n    <tr>\n      <th>www.s_2.com</th>\n      <td>5</td>\n      <td>5</td>\n    </tr>\n    <tr>\n      <th rowspan=\"2\" valign=\"top\">visitor_10</th>\n      <th>www.s_2.com</th>\n      <td>5</td>\n      <td>5</td>\n    </tr>\n    <tr>\n      <th>www.s_3.com</th>\n      <td>12</td>\n      <td>12</td>\n    </tr>\n    <tr>\n      <th>...</th>\n      <th>...</th>\n      <td>...</td>\n      <td>...</td>\n    </tr>\n    <tr>\n      <th rowspan=\"4\" valign=\"top\">visitor_9998</th>\n      <th>www.s_6.com</th>\n      <td>1</td>\n      <td>1</td>\n    </tr>\n    <tr>\n      <th>www.s_7.com</th>\n      <td>2</td>\n      <td>2</td>\n    </tr>\n    <tr>\n      <th>www.s_8.com</th>\n      <td>5</td>\n      <td>5</td>\n    </tr>\n    <tr>\n      <th>www.s_9.com</th>\n      <td>6</td>\n      <td>6</td>\n    </tr>\n    <tr>\n      <th>visitor_9999</th>\n      <th>www.s_9.com</th>\n      <td>2</td>\n      <td>2</td>\n    </tr>\n  </tbody>\n</table>\n<p>30908 rows × 2 columns</p>\n</div>",
      "text/plain": [
       "                           page_view_url  timestamp\n",
       "visitor_id   site_url                              \n",
       "visitor_1    www.s_1.com               3          3\n",
       "             www.s_10.com              3          3\n",
       "             www.s_2.com               5          5\n",
       "visitor_10   www.s_2.com               5          5\n",
       "             www.s_3.com              12         12\n",
       "...                                  ...        ...\n",
       "visitor_9998 www.s_6.com               1          1\n",
       "             www.s_7.com               2          2\n",
       "             www.s_8.com               5          5\n",
       "             www.s_9.com               6          6\n",
       "visitor_9999 www.s_9.com               2          2\n",
       "\n",
       "[30908 rows x 2 columns]"
      ]
     },
     "metadata": {},
     "execution_count": 25
    }
   ],
   "source": [
    "df.groupby([df.visitor_id, df.site_url]).count()"
   ]
  },
  {
   "cell_type": "code",
   "execution_count": 30,
   "metadata": {},
   "outputs": [],
   "source": [
    "pd.options.display.max_rows = 4000"
   ]
  },
  {
   "cell_type": "code",
   "execution_count": 31,
   "metadata": {},
   "outputs": [
    {
     "output_type": "execute_result",
     "data": {
      "text/html": "<div>\n<style scoped>\n    .dataframe tbody tr th:only-of-type {\n        vertical-align: middle;\n    }\n\n    .dataframe tbody tr th {\n        vertical-align: top;\n    }\n\n    .dataframe thead th {\n        text-align: right;\n    }\n</style>\n<table border=\"1\" class=\"dataframe\">\n  <thead>\n    <tr style=\"text-align: right;\">\n      <th></th>\n      <th>site_url</th>\n      <th>visitor_id</th>\n      <th>session_id</th>\n      <th>timestamp</th>\n      <th>session_duration</th>\n    </tr>\n  </thead>\n  <tbody>\n    <tr>\n      <th>0</th>\n      <td>www.s_1.com</td>\n      <td>visitor_1</td>\n      <td>1</td>\n      <td>1347845487</td>\n      <td>0</td>\n    </tr>\n    <tr>\n      <th>1</th>\n      <td>www.s_1.com</td>\n      <td>visitor_1</td>\n      <td>1</td>\n      <td>1347845963</td>\n      <td>476</td>\n    </tr>\n    <tr>\n      <th>2</th>\n      <td>www.s_1.com</td>\n      <td>visitor_1</td>\n      <td>1</td>\n      <td>1347846347</td>\n      <td>860</td>\n    </tr>\n    <tr>\n      <th>3</th>\n      <td>www.s_1.com</td>\n      <td>visitor_1000</td>\n      <td>2</td>\n      <td>1347845105</td>\n      <td>0</td>\n    </tr>\n    <tr>\n      <th>4</th>\n      <td>www.s_1.com</td>\n      <td>visitor_1000</td>\n      <td>2</td>\n      <td>1347845507</td>\n      <td>402</td>\n    </tr>\n    <tr>\n      <th>5</th>\n      <td>www.s_1.com</td>\n      <td>visitor_1000</td>\n      <td>2</td>\n      <td>1347846003</td>\n      <td>898</td>\n    </tr>\n    <tr>\n      <th>6</th>\n      <td>www.s_1.com</td>\n      <td>visitor_10000</td>\n      <td>3</td>\n      <td>1347881571</td>\n      <td>0</td>\n    </tr>\n    <tr>\n      <th>7</th>\n      <td>www.s_1.com</td>\n      <td>visitor_10000</td>\n      <td>3</td>\n      <td>1347882003</td>\n      <td>432</td>\n    </tr>\n    <tr>\n      <th>8</th>\n      <td>www.s_1.com</td>\n      <td>visitor_10000</td>\n      <td>3</td>\n      <td>1347882465</td>\n      <td>894</td>\n    </tr>\n    <tr>\n      <th>9</th>\n      <td>www.s_1.com</td>\n      <td>visitor_1002</td>\n      <td>4</td>\n      <td>1347866280</td>\n      <td>0</td>\n    </tr>\n    <tr>\n      <th>10</th>\n      <td>www.s_1.com</td>\n      <td>visitor_1002</td>\n      <td>4</td>\n      <td>1347866722</td>\n      <td>442</td>\n    </tr>\n    <tr>\n      <th>11</th>\n      <td>www.s_1.com</td>\n      <td>visitor_1002</td>\n      <td>4</td>\n      <td>1347867226</td>\n      <td>946</td>\n    </tr>\n    <tr>\n      <th>12</th>\n      <td>www.s_1.com</td>\n      <td>visitor_1002</td>\n      <td>4</td>\n      <td>1347867490</td>\n      <td>1210</td>\n    </tr>\n    <tr>\n      <th>13</th>\n      <td>www.s_1.com</td>\n      <td>visitor_1002</td>\n      <td>4</td>\n      <td>1347868210</td>\n      <td>1930</td>\n    </tr>\n    <tr>\n      <th>14</th>\n      <td>www.s_1.com</td>\n      <td>visitor_1002</td>\n      <td>4</td>\n      <td>1347868480</td>\n      <td>2200</td>\n    </tr>\n    <tr>\n      <th>15</th>\n      <td>www.s_1.com</td>\n      <td>visitor_1002</td>\n      <td>4</td>\n      <td>1347869050</td>\n      <td>2770</td>\n    </tr>\n    <tr>\n      <th>16</th>\n      <td>www.s_1.com</td>\n      <td>visitor_1002</td>\n      <td>5</td>\n      <td>1347888253</td>\n      <td>0</td>\n    </tr>\n    <tr>\n      <th>17</th>\n      <td>www.s_1.com</td>\n      <td>visitor_1002</td>\n      <td>5</td>\n      <td>1347888722</td>\n      <td>469</td>\n    </tr>\n    <tr>\n      <th>18</th>\n      <td>www.s_1.com</td>\n      <td>visitor_1009</td>\n      <td>6</td>\n      <td>1347881004</td>\n      <td>0</td>\n    </tr>\n    <tr>\n      <th>19</th>\n      <td>www.s_1.com</td>\n      <td>visitor_1009</td>\n      <td>6</td>\n      <td>1347881365</td>\n      <td>361</td>\n    </tr>\n    <tr>\n      <th>20</th>\n      <td>www.s_1.com</td>\n      <td>visitor_1009</td>\n      <td>6</td>\n      <td>1347881838</td>\n      <td>834</td>\n    </tr>\n    <tr>\n      <th>21</th>\n      <td>www.s_1.com</td>\n      <td>visitor_1009</td>\n      <td>6</td>\n      <td>1347882389</td>\n      <td>1385</td>\n    </tr>\n    <tr>\n      <th>22</th>\n      <td>www.s_1.com</td>\n      <td>visitor_1020</td>\n      <td>7</td>\n      <td>1347859159</td>\n      <td>0</td>\n    </tr>\n    <tr>\n      <th>23</th>\n      <td>www.s_1.com</td>\n      <td>visitor_1020</td>\n      <td>7</td>\n      <td>1347859743</td>\n      <td>584</td>\n    </tr>\n    <tr>\n      <th>24</th>\n      <td>www.s_1.com</td>\n      <td>visitor_1021</td>\n      <td>8</td>\n      <td>1347845076</td>\n      <td>0</td>\n    </tr>\n    <tr>\n      <th>25</th>\n      <td>www.s_1.com</td>\n      <td>visitor_1021</td>\n      <td>8</td>\n      <td>1347845547</td>\n      <td>471</td>\n    </tr>\n    <tr>\n      <th>26</th>\n      <td>www.s_1.com</td>\n      <td>visitor_1021</td>\n      <td>8</td>\n      <td>1347846064</td>\n      <td>988</td>\n    </tr>\n    <tr>\n      <th>27</th>\n      <td>www.s_1.com</td>\n      <td>visitor_1021</td>\n      <td>8</td>\n      <td>1347846303</td>\n      <td>1227</td>\n    </tr>\n    <tr>\n      <th>28</th>\n      <td>www.s_1.com</td>\n      <td>visitor_1021</td>\n      <td>8</td>\n      <td>1347846846</td>\n      <td>1770</td>\n    </tr>\n    <tr>\n      <th>29</th>\n      <td>www.s_1.com</td>\n      <td>visitor_1021</td>\n      <td>8</td>\n      <td>1347847548</td>\n      <td>2472</td>\n    </tr>\n    <tr>\n      <th>30</th>\n      <td>www.s_1.com</td>\n      <td>visitor_1025</td>\n      <td>9</td>\n      <td>1347859802</td>\n      <td>0</td>\n    </tr>\n    <tr>\n      <th>31</th>\n      <td>www.s_1.com</td>\n      <td>visitor_1025</td>\n      <td>9</td>\n      <td>1347860153</td>\n      <td>351</td>\n    </tr>\n    <tr>\n      <th>32</th>\n      <td>www.s_1.com</td>\n      <td>visitor_1025</td>\n      <td>9</td>\n      <td>1347860678</td>\n      <td>876</td>\n    </tr>\n    <tr>\n      <th>33</th>\n      <td>www.s_1.com</td>\n      <td>visitor_1025</td>\n      <td>9</td>\n      <td>1347861100</td>\n      <td>1298</td>\n    </tr>\n    <tr>\n      <th>34</th>\n      <td>www.s_1.com</td>\n      <td>visitor_1025</td>\n      <td>9</td>\n      <td>1347861536</td>\n      <td>1734</td>\n    </tr>\n    <tr>\n      <th>35</th>\n      <td>www.s_1.com</td>\n      <td>visitor_1025</td>\n      <td>9</td>\n      <td>1347862012</td>\n      <td>2210</td>\n    </tr>\n    <tr>\n      <th>36</th>\n      <td>www.s_1.com</td>\n      <td>visitor_1026</td>\n      <td>10</td>\n      <td>1347844836</td>\n      <td>0</td>\n    </tr>\n    <tr>\n      <th>37</th>\n      <td>www.s_1.com</td>\n      <td>visitor_1026</td>\n      <td>10</td>\n      <td>1347845246</td>\n      <td>410</td>\n    </tr>\n    <tr>\n      <th>38</th>\n      <td>www.s_1.com</td>\n      <td>visitor_1028</td>\n      <td>11</td>\n      <td>1347881256</td>\n      <td>0</td>\n    </tr>\n    <tr>\n      <th>39</th>\n      <td>www.s_1.com</td>\n      <td>visitor_1028</td>\n      <td>11</td>\n      <td>1347881682</td>\n      <td>426</td>\n    </tr>\n    <tr>\n      <th>40</th>\n      <td>www.s_1.com</td>\n      <td>visitor_103</td>\n      <td>12</td>\n      <td>1347852256</td>\n      <td>0</td>\n    </tr>\n    <tr>\n      <th>41</th>\n      <td>www.s_1.com</td>\n      <td>visitor_103</td>\n      <td>12</td>\n      <td>1347852812</td>\n      <td>556</td>\n    </tr>\n    <tr>\n      <th>42</th>\n      <td>www.s_1.com</td>\n      <td>visitor_103</td>\n      <td>12</td>\n      <td>1347853124</td>\n      <td>868</td>\n    </tr>\n    <tr>\n      <th>43</th>\n      <td>www.s_1.com</td>\n      <td>visitor_103</td>\n      <td>12</td>\n      <td>1347853537</td>\n      <td>1281</td>\n    </tr>\n    <tr>\n      <th>44</th>\n      <td>www.s_1.com</td>\n      <td>visitor_103</td>\n      <td>12</td>\n      <td>1347853982</td>\n      <td>1726</td>\n    </tr>\n    <tr>\n      <th>45</th>\n      <td>www.s_1.com</td>\n      <td>visitor_103</td>\n      <td>12</td>\n      <td>1347854389</td>\n      <td>2133</td>\n    </tr>\n    <tr>\n      <th>46</th>\n      <td>www.s_1.com</td>\n      <td>visitor_1033</td>\n      <td>13</td>\n      <td>1347844614</td>\n      <td>0</td>\n    </tr>\n    <tr>\n      <th>47</th>\n      <td>www.s_1.com</td>\n      <td>visitor_1033</td>\n      <td>13</td>\n      <td>1347844999</td>\n      <td>385</td>\n    </tr>\n    <tr>\n      <th>48</th>\n      <td>www.s_1.com</td>\n      <td>visitor_1033</td>\n      <td>13</td>\n      <td>1347845552</td>\n      <td>938</td>\n    </tr>\n    <tr>\n      <th>49</th>\n      <td>www.s_1.com</td>\n      <td>visitor_1033</td>\n      <td>13</td>\n      <td>1347845870</td>\n      <td>1256</td>\n    </tr>\n    <tr>\n      <th>50</th>\n      <td>www.s_1.com</td>\n      <td>visitor_1033</td>\n      <td>13</td>\n      <td>1347846340</td>\n      <td>1726</td>\n    </tr>\n    <tr>\n      <th>51</th>\n      <td>www.s_1.com</td>\n      <td>visitor_1033</td>\n      <td>14</td>\n      <td>1347859473</td>\n      <td>0</td>\n    </tr>\n    <tr>\n      <th>52</th>\n      <td>www.s_1.com</td>\n      <td>visitor_1033</td>\n      <td>14</td>\n      <td>1347859993</td>\n      <td>520</td>\n    </tr>\n    <tr>\n      <th>53</th>\n      <td>www.s_1.com</td>\n      <td>visitor_1033</td>\n      <td>14</td>\n      <td>1347860353</td>\n      <td>880</td>\n    </tr>\n    <tr>\n      <th>54</th>\n      <td>www.s_1.com</td>\n      <td>visitor_1033</td>\n      <td>14</td>\n      <td>1347860785</td>\n      <td>1312</td>\n    </tr>\n    <tr>\n      <th>55</th>\n      <td>www.s_1.com</td>\n      <td>visitor_1033</td>\n      <td>14</td>\n      <td>1347861241</td>\n      <td>1768</td>\n    </tr>\n    <tr>\n      <th>56</th>\n      <td>www.s_1.com</td>\n      <td>visitor_1033</td>\n      <td>14</td>\n      <td>1347861729</td>\n      <td>2256</td>\n    </tr>\n    <tr>\n      <th>57</th>\n      <td>www.s_1.com</td>\n      <td>visitor_1033</td>\n      <td>15</td>\n      <td>1347873682</td>\n      <td>0</td>\n    </tr>\n    <tr>\n      <th>58</th>\n      <td>www.s_1.com</td>\n      <td>visitor_1034</td>\n      <td>16</td>\n      <td>1347874166</td>\n      <td>0</td>\n    </tr>\n    <tr>\n      <th>59</th>\n      <td>www.s_1.com</td>\n      <td>visitor_1034</td>\n      <td>16</td>\n      <td>1347874722</td>\n      <td>556</td>\n    </tr>\n    <tr>\n      <th>60</th>\n      <td>www.s_1.com</td>\n      <td>visitor_1034</td>\n      <td>16</td>\n      <td>1347874990</td>\n      <td>824</td>\n    </tr>\n    <tr>\n      <th>61</th>\n      <td>www.s_1.com</td>\n      <td>visitor_1034</td>\n      <td>16</td>\n      <td>1347875547</td>\n      <td>1381</td>\n    </tr>\n    <tr>\n      <th>62</th>\n      <td>www.s_1.com</td>\n      <td>visitor_1034</td>\n      <td>16</td>\n      <td>1347875850</td>\n      <td>1684</td>\n    </tr>\n    <tr>\n      <th>63</th>\n      <td>www.s_1.com</td>\n      <td>visitor_1034</td>\n      <td>16</td>\n      <td>1347876453</td>\n      <td>2287</td>\n    </tr>\n    <tr>\n      <th>64</th>\n      <td>www.s_1.com</td>\n      <td>visitor_1037</td>\n      <td>17</td>\n      <td>1347845599</td>\n      <td>0</td>\n    </tr>\n    <tr>\n      <th>65</th>\n      <td>www.s_1.com</td>\n      <td>visitor_1037</td>\n      <td>17</td>\n      <td>1347845976</td>\n      <td>377</td>\n    </tr>\n    <tr>\n      <th>66</th>\n      <td>www.s_1.com</td>\n      <td>visitor_1037</td>\n      <td>17</td>\n      <td>1347846593</td>\n      <td>994</td>\n    </tr>\n    <tr>\n      <th>67</th>\n      <td>www.s_1.com</td>\n      <td>visitor_1037</td>\n      <td>17</td>\n      <td>1347846844</td>\n      <td>1245</td>\n    </tr>\n    <tr>\n      <th>68</th>\n      <td>www.s_1.com</td>\n      <td>visitor_1037</td>\n      <td>17</td>\n      <td>1347847491</td>\n      <td>1892</td>\n    </tr>\n    <tr>\n      <th>69</th>\n      <td>www.s_1.com</td>\n      <td>visitor_1037</td>\n      <td>17</td>\n      <td>1347848007</td>\n      <td>2408</td>\n    </tr>\n    <tr>\n      <th>70</th>\n      <td>www.s_1.com</td>\n      <td>visitor_1037</td>\n      <td>17</td>\n      <td>1347848369</td>\n      <td>2770</td>\n    </tr>\n    <tr>\n      <th>71</th>\n      <td>www.s_1.com</td>\n      <td>visitor_1039</td>\n      <td>18</td>\n      <td>1347844579</td>\n      <td>0</td>\n    </tr>\n    <tr>\n      <th>72</th>\n      <td>www.s_1.com</td>\n      <td>visitor_1039</td>\n      <td>18</td>\n      <td>1347845133</td>\n      <td>554</td>\n    </tr>\n    <tr>\n      <th>73</th>\n      <td>www.s_1.com</td>\n      <td>visitor_1039</td>\n      <td>18</td>\n      <td>1347845505</td>\n      <td>926</td>\n    </tr>\n    <tr>\n      <th>74</th>\n      <td>www.s_1.com</td>\n      <td>visitor_1039</td>\n      <td>18</td>\n      <td>1347845813</td>\n      <td>1234</td>\n    </tr>\n    <tr>\n      <th>75</th>\n      <td>www.s_1.com</td>\n      <td>visitor_1039</td>\n      <td>18</td>\n      <td>1347846309</td>\n      <td>1730</td>\n    </tr>\n    <tr>\n      <th>76</th>\n      <td>www.s_1.com</td>\n      <td>visitor_1039</td>\n      <td>18</td>\n      <td>1347846941</td>\n      <td>2362</td>\n    </tr>\n    <tr>\n      <th>77</th>\n      <td>www.s_1.com</td>\n      <td>visitor_104</td>\n      <td>19</td>\n      <td>1347844721</td>\n      <td>0</td>\n    </tr>\n    <tr>\n      <th>78</th>\n      <td>www.s_1.com</td>\n      <td>visitor_104</td>\n      <td>19</td>\n      <td>1347845209</td>\n      <td>488</td>\n    </tr>\n    <tr>\n      <th>79</th>\n      <td>www.s_1.com</td>\n      <td>visitor_104</td>\n      <td>19</td>\n      <td>1347845631</td>\n      <td>910</td>\n    </tr>\n    <tr>\n      <th>80</th>\n      <td>www.s_1.com</td>\n      <td>visitor_104</td>\n      <td>19</td>\n      <td>1347846155</td>\n      <td>1434</td>\n    </tr>\n    <tr>\n      <th>81</th>\n      <td>www.s_1.com</td>\n      <td>visitor_104</td>\n      <td>19</td>\n      <td>1347846505</td>\n      <td>1784</td>\n    </tr>\n    <tr>\n      <th>82</th>\n      <td>www.s_1.com</td>\n      <td>visitor_104</td>\n      <td>20</td>\n      <td>1347873944</td>\n      <td>0</td>\n    </tr>\n    <tr>\n      <th>83</th>\n      <td>www.s_1.com</td>\n      <td>visitor_104</td>\n      <td>20</td>\n      <td>1347874335</td>\n      <td>391</td>\n    </tr>\n    <tr>\n      <th>84</th>\n      <td>www.s_1.com</td>\n      <td>visitor_104</td>\n      <td>20</td>\n      <td>1347874794</td>\n      <td>850</td>\n    </tr>\n    <tr>\n      <th>85</th>\n      <td>www.s_1.com</td>\n      <td>visitor_104</td>\n      <td>20</td>\n      <td>1347875391</td>\n      <td>1447</td>\n    </tr>\n    <tr>\n      <th>86</th>\n      <td>www.s_1.com</td>\n      <td>visitor_104</td>\n      <td>20</td>\n      <td>1347875886</td>\n      <td>1942</td>\n    </tr>\n    <tr>\n      <th>87</th>\n      <td>www.s_1.com</td>\n      <td>visitor_104</td>\n      <td>20</td>\n      <td>1347876100</td>\n      <td>2156</td>\n    </tr>\n    <tr>\n      <th>88</th>\n      <td>www.s_1.com</td>\n      <td>visitor_104</td>\n      <td>20</td>\n      <td>1347876406</td>\n      <td>2462</td>\n    </tr>\n    <tr>\n      <th>89</th>\n      <td>www.s_1.com</td>\n      <td>visitor_1047</td>\n      <td>21</td>\n      <td>1347860098</td>\n      <td>0</td>\n    </tr>\n    <tr>\n      <th>90</th>\n      <td>www.s_1.com</td>\n      <td>visitor_1047</td>\n      <td>21</td>\n      <td>1347860537</td>\n      <td>439</td>\n    </tr>\n    <tr>\n      <th>91</th>\n      <td>www.s_1.com</td>\n      <td>visitor_1047</td>\n      <td>21</td>\n      <td>1347861038</td>\n      <td>940</td>\n    </tr>\n    <tr>\n      <th>92</th>\n      <td>www.s_1.com</td>\n      <td>visitor_1047</td>\n      <td>21</td>\n      <td>1347861497</td>\n      <td>1399</td>\n    </tr>\n    <tr>\n      <th>93</th>\n      <td>www.s_1.com</td>\n      <td>visitor_1047</td>\n      <td>21</td>\n      <td>1347861812</td>\n      <td>1714</td>\n    </tr>\n    <tr>\n      <th>94</th>\n      <td>www.s_1.com</td>\n      <td>visitor_1047</td>\n      <td>21</td>\n      <td>1347862278</td>\n      <td>2180</td>\n    </tr>\n    <tr>\n      <th>95</th>\n      <td>www.s_1.com</td>\n      <td>visitor_1047</td>\n      <td>21</td>\n      <td>1347862790</td>\n      <td>2692</td>\n    </tr>\n    <tr>\n      <th>96</th>\n      <td>www.s_1.com</td>\n      <td>visitor_1050</td>\n      <td>22</td>\n      <td>1347844742</td>\n      <td>0</td>\n    </tr>\n    <tr>\n      <th>97</th>\n      <td>www.s_1.com</td>\n      <td>visitor_1050</td>\n      <td>22</td>\n      <td>1347845223</td>\n      <td>481</td>\n    </tr>\n    <tr>\n      <th>98</th>\n      <td>www.s_1.com</td>\n      <td>visitor_1050</td>\n      <td>22</td>\n      <td>1347845676</td>\n      <td>934</td>\n    </tr>\n    <tr>\n      <th>99</th>\n      <td>www.s_1.com</td>\n      <td>visitor_1050</td>\n      <td>22</td>\n      <td>1347846155</td>\n      <td>1413</td>\n    </tr>\n  </tbody>\n</table>\n</div>",
      "text/plain": [
       "       site_url     visitor_id  session_id   timestamp  session_duration\n",
       "0   www.s_1.com      visitor_1           1  1347845487                 0\n",
       "1   www.s_1.com      visitor_1           1  1347845963               476\n",
       "2   www.s_1.com      visitor_1           1  1347846347               860\n",
       "3   www.s_1.com   visitor_1000           2  1347845105                 0\n",
       "4   www.s_1.com   visitor_1000           2  1347845507               402\n",
       "5   www.s_1.com   visitor_1000           2  1347846003               898\n",
       "6   www.s_1.com  visitor_10000           3  1347881571                 0\n",
       "7   www.s_1.com  visitor_10000           3  1347882003               432\n",
       "8   www.s_1.com  visitor_10000           3  1347882465               894\n",
       "9   www.s_1.com   visitor_1002           4  1347866280                 0\n",
       "10  www.s_1.com   visitor_1002           4  1347866722               442\n",
       "11  www.s_1.com   visitor_1002           4  1347867226               946\n",
       "12  www.s_1.com   visitor_1002           4  1347867490              1210\n",
       "13  www.s_1.com   visitor_1002           4  1347868210              1930\n",
       "14  www.s_1.com   visitor_1002           4  1347868480              2200\n",
       "15  www.s_1.com   visitor_1002           4  1347869050              2770\n",
       "16  www.s_1.com   visitor_1002           5  1347888253                 0\n",
       "17  www.s_1.com   visitor_1002           5  1347888722               469\n",
       "18  www.s_1.com   visitor_1009           6  1347881004                 0\n",
       "19  www.s_1.com   visitor_1009           6  1347881365               361\n",
       "20  www.s_1.com   visitor_1009           6  1347881838               834\n",
       "21  www.s_1.com   visitor_1009           6  1347882389              1385\n",
       "22  www.s_1.com   visitor_1020           7  1347859159                 0\n",
       "23  www.s_1.com   visitor_1020           7  1347859743               584\n",
       "24  www.s_1.com   visitor_1021           8  1347845076                 0\n",
       "25  www.s_1.com   visitor_1021           8  1347845547               471\n",
       "26  www.s_1.com   visitor_1021           8  1347846064               988\n",
       "27  www.s_1.com   visitor_1021           8  1347846303              1227\n",
       "28  www.s_1.com   visitor_1021           8  1347846846              1770\n",
       "29  www.s_1.com   visitor_1021           8  1347847548              2472\n",
       "30  www.s_1.com   visitor_1025           9  1347859802                 0\n",
       "31  www.s_1.com   visitor_1025           9  1347860153               351\n",
       "32  www.s_1.com   visitor_1025           9  1347860678               876\n",
       "33  www.s_1.com   visitor_1025           9  1347861100              1298\n",
       "34  www.s_1.com   visitor_1025           9  1347861536              1734\n",
       "35  www.s_1.com   visitor_1025           9  1347862012              2210\n",
       "36  www.s_1.com   visitor_1026          10  1347844836                 0\n",
       "37  www.s_1.com   visitor_1026          10  1347845246               410\n",
       "38  www.s_1.com   visitor_1028          11  1347881256                 0\n",
       "39  www.s_1.com   visitor_1028          11  1347881682               426\n",
       "40  www.s_1.com    visitor_103          12  1347852256                 0\n",
       "41  www.s_1.com    visitor_103          12  1347852812               556\n",
       "42  www.s_1.com    visitor_103          12  1347853124               868\n",
       "43  www.s_1.com    visitor_103          12  1347853537              1281\n",
       "44  www.s_1.com    visitor_103          12  1347853982              1726\n",
       "45  www.s_1.com    visitor_103          12  1347854389              2133\n",
       "46  www.s_1.com   visitor_1033          13  1347844614                 0\n",
       "47  www.s_1.com   visitor_1033          13  1347844999               385\n",
       "48  www.s_1.com   visitor_1033          13  1347845552               938\n",
       "49  www.s_1.com   visitor_1033          13  1347845870              1256\n",
       "50  www.s_1.com   visitor_1033          13  1347846340              1726\n",
       "51  www.s_1.com   visitor_1033          14  1347859473                 0\n",
       "52  www.s_1.com   visitor_1033          14  1347859993               520\n",
       "53  www.s_1.com   visitor_1033          14  1347860353               880\n",
       "54  www.s_1.com   visitor_1033          14  1347860785              1312\n",
       "55  www.s_1.com   visitor_1033          14  1347861241              1768\n",
       "56  www.s_1.com   visitor_1033          14  1347861729              2256\n",
       "57  www.s_1.com   visitor_1033          15  1347873682                 0\n",
       "58  www.s_1.com   visitor_1034          16  1347874166                 0\n",
       "59  www.s_1.com   visitor_1034          16  1347874722               556\n",
       "60  www.s_1.com   visitor_1034          16  1347874990               824\n",
       "61  www.s_1.com   visitor_1034          16  1347875547              1381\n",
       "62  www.s_1.com   visitor_1034          16  1347875850              1684\n",
       "63  www.s_1.com   visitor_1034          16  1347876453              2287\n",
       "64  www.s_1.com   visitor_1037          17  1347845599                 0\n",
       "65  www.s_1.com   visitor_1037          17  1347845976               377\n",
       "66  www.s_1.com   visitor_1037          17  1347846593               994\n",
       "67  www.s_1.com   visitor_1037          17  1347846844              1245\n",
       "68  www.s_1.com   visitor_1037          17  1347847491              1892\n",
       "69  www.s_1.com   visitor_1037          17  1347848007              2408\n",
       "70  www.s_1.com   visitor_1037          17  1347848369              2770\n",
       "71  www.s_1.com   visitor_1039          18  1347844579                 0\n",
       "72  www.s_1.com   visitor_1039          18  1347845133               554\n",
       "73  www.s_1.com   visitor_1039          18  1347845505               926\n",
       "74  www.s_1.com   visitor_1039          18  1347845813              1234\n",
       "75  www.s_1.com   visitor_1039          18  1347846309              1730\n",
       "76  www.s_1.com   visitor_1039          18  1347846941              2362\n",
       "77  www.s_1.com    visitor_104          19  1347844721                 0\n",
       "78  www.s_1.com    visitor_104          19  1347845209               488\n",
       "79  www.s_1.com    visitor_104          19  1347845631               910\n",
       "80  www.s_1.com    visitor_104          19  1347846155              1434\n",
       "81  www.s_1.com    visitor_104          19  1347846505              1784\n",
       "82  www.s_1.com    visitor_104          20  1347873944                 0\n",
       "83  www.s_1.com    visitor_104          20  1347874335               391\n",
       "84  www.s_1.com    visitor_104          20  1347874794               850\n",
       "85  www.s_1.com    visitor_104          20  1347875391              1447\n",
       "86  www.s_1.com    visitor_104          20  1347875886              1942\n",
       "87  www.s_1.com    visitor_104          20  1347876100              2156\n",
       "88  www.s_1.com    visitor_104          20  1347876406              2462\n",
       "89  www.s_1.com   visitor_1047          21  1347860098                 0\n",
       "90  www.s_1.com   visitor_1047          21  1347860537               439\n",
       "91  www.s_1.com   visitor_1047          21  1347861038               940\n",
       "92  www.s_1.com   visitor_1047          21  1347861497              1399\n",
       "93  www.s_1.com   visitor_1047          21  1347861812              1714\n",
       "94  www.s_1.com   visitor_1047          21  1347862278              2180\n",
       "95  www.s_1.com   visitor_1047          21  1347862790              2692\n",
       "96  www.s_1.com   visitor_1050          22  1347844742                 0\n",
       "97  www.s_1.com   visitor_1050          22  1347845223               481\n",
       "98  www.s_1.com   visitor_1050          22  1347845676               934\n",
       "99  www.s_1.com   visitor_1050          22  1347846155              1413"
      ]
     },
     "metadata": {},
     "execution_count": 31
    }
   ],
   "source": [
    "sessions_df.head(100)"
   ]
  },
  {
   "cell_type": "code",
   "execution_count": null,
   "metadata": {},
   "outputs": [],
   "source": []
  }
 ],
 "metadata": {
  "kernelspec": {
   "display_name": "Python 3.8.6 64-bit ('venv')",
   "language": "python",
   "name": "python38664bitvenv7ec5121dd8a74dbc92ca3ff4cf115c73"
  },
  "language_info": {
   "codemirror_mode": {
    "name": "ipython",
    "version": 3
   },
   "file_extension": ".py",
   "mimetype": "text/x-python",
   "name": "python",
   "nbconvert_exporter": "python",
   "pygments_lexer": "ipython3",
   "version": "3.8.6-final"
  }
 },
 "nbformat": 4,
 "nbformat_minor": 2
}