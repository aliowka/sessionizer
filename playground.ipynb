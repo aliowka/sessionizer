{
 "cells": [
  {
   "cell_type": "code",
   "execution_count": 2,
   "metadata": {},
   "outputs": [],
   "source": [
    "import os\n",
    "import pandas as pd\n",
    "\n",
    "csv_files = [\n",
    "        os.path.join(\"assignment\", \"input_1.csv\"),\n",
    "        os.path.join(\"assignment\", \"input_2.csv\"),\n",
    "        os.path.join(\"assignment\", \"input_3.csv\")\n",
    "    ]\n",
    "columns = [\"visitor_id\", \"site_url\", \"page_view_url\", \"timestamp\"]\n",
    "data_frame = pd.DataFrame()\n",
    "for csv_file in csv_files:\n",
    "    df = pd.read_csv(csv_file)\n",
    "    df.columns = columns\n",
    "    data_frame = data_frame.append(df)\n",
    "df = data_frame"
   ]
  },
  {
   "cell_type": "code",
   "execution_count": 3,
   "metadata": {},
   "outputs": [],
   "source": [
    "df.timestamp = pd.to_numeric(df.timestamp)"
   ]
  },
  {
   "cell_type": "code",
   "execution_count": 4,
   "metadata": {},
   "outputs": [
    {
     "output_type": "execute_result",
     "data": {
      "text/html": "<div>\n<style scoped>\n    .dataframe tbody tr th:only-of-type {\n        vertical-align: middle;\n    }\n\n    .dataframe tbody tr th {\n        vertical-align: top;\n    }\n\n    .dataframe thead th {\n        text-align: right;\n    }\n</style>\n<table border=\"1\" class=\"dataframe\">\n  <thead>\n    <tr style=\"text-align: right;\">\n      <th></th>\n      <th>visitor_id</th>\n      <th>site_url</th>\n      <th>page_view_url</th>\n      <th>timestamp</th>\n    </tr>\n  </thead>\n  <tbody>\n    <tr>\n      <th>0</th>\n      <td>visitor_3514</td>\n      <td>www.s_9.com</td>\n      <td>www.s_9.com/page_1</td>\n      <td>1347844451</td>\n    </tr>\n    <tr>\n      <th>1</th>\n      <td>visitor_4039</td>\n      <td>www.s_6.com</td>\n      <td>www.s_6.com/page_1</td>\n      <td>1347844452</td>\n    </tr>\n    <tr>\n      <th>2</th>\n      <td>visitor_437</td>\n      <td>www.s_8.com</td>\n      <td>www.s_8.com/page_1</td>\n      <td>1347844457</td>\n    </tr>\n    <tr>\n      <th>3</th>\n      <td>visitor_9857</td>\n      <td>www.s_6.com</td>\n      <td>www.s_6.com/page_1</td>\n      <td>1347844458</td>\n    </tr>\n    <tr>\n      <th>4</th>\n      <td>visitor_6574</td>\n      <td>www.s_9.com</td>\n      <td>www.s_9.com/page_1</td>\n      <td>1347844460</td>\n    </tr>\n    <tr>\n      <th>...</th>\n      <td>...</td>\n      <td>...</td>\n      <td>...</td>\n      <td>...</td>\n    </tr>\n    <tr>\n      <th>48752</th>\n      <td>visitor_9328</td>\n      <td>www.s_6.com</td>\n      <td>www.s_6.com/page_5</td>\n      <td>1347904973</td>\n    </tr>\n    <tr>\n      <th>48753</th>\n      <td>visitor_1222</td>\n      <td>www.s_9.com</td>\n      <td>www.s_9.com/page_6</td>\n      <td>1347905334</td>\n    </tr>\n    <tr>\n      <th>48754</th>\n      <td>visitor_1222</td>\n      <td>www.s_9.com</td>\n      <td>www.s_9.com/page_7</td>\n      <td>1347905512</td>\n    </tr>\n    <tr>\n      <th>48755</th>\n      <td>visitor_9328</td>\n      <td>www.s_6.com</td>\n      <td>www.s_6.com/page_7</td>\n      <td>1347905857</td>\n    </tr>\n    <tr>\n      <th>48756</th>\n      <td>visitor_8335</td>\n      <td>www.s_9.com</td>\n      <td>www.s_9.com/page_4</td>\n      <td>1347910665</td>\n    </tr>\n  </tbody>\n</table>\n<p>145964 rows × 4 columns</p>\n</div>",
      "text/plain": [
       "         visitor_id     site_url       page_view_url   timestamp\n",
       "0      visitor_3514  www.s_9.com  www.s_9.com/page_1  1347844451\n",
       "1      visitor_4039  www.s_6.com  www.s_6.com/page_1  1347844452\n",
       "2       visitor_437  www.s_8.com  www.s_8.com/page_1  1347844457\n",
       "3      visitor_9857  www.s_6.com  www.s_6.com/page_1  1347844458\n",
       "4      visitor_6574  www.s_9.com  www.s_9.com/page_1  1347844460\n",
       "...             ...          ...                 ...         ...\n",
       "48752  visitor_9328  www.s_6.com  www.s_6.com/page_5  1347904973\n",
       "48753  visitor_1222  www.s_9.com  www.s_9.com/page_6  1347905334\n",
       "48754  visitor_1222  www.s_9.com  www.s_9.com/page_7  1347905512\n",
       "48755  visitor_9328  www.s_6.com  www.s_6.com/page_7  1347905857\n",
       "48756  visitor_8335  www.s_9.com  www.s_9.com/page_4  1347910665\n",
       "\n",
       "[145964 rows x 4 columns]"
      ]
     },
     "metadata": {},
     "execution_count": 4
    }
   ],
   "source": [
    "df"
   ]
  },
  {
   "cell_type": "code",
   "execution_count": 5,
   "metadata": {},
   "outputs": [
    {
     "output_type": "execute_result",
     "data": {
      "text/plain": [
       "4160     1347845487\n",
       "7047     1347845963\n",
       "8905     1347846347\n",
       "2030     1347845105\n",
       "4294     1347845507\n",
       "            ...    \n",
       "33576    1347861429\n",
       "33945    1347861645\n",
       "34708    1347862111\n",
       "4383     1347845516\n",
       "7382     1347846021\n",
       "Name: timestamp, Length: 145964, dtype: int64"
      ]
     },
     "metadata": {},
     "execution_count": 5
    }
   ],
   "source": [
    "df.sort_values(by=['site_url', 'visitor_id', 'timestamp'])[\"timestamp\"]"
   ]
  },
  {
   "cell_type": "code",
   "execution_count": 6,
   "metadata": {},
   "outputs": [
    {
     "output_type": "execute_result",
     "data": {
      "text/html": "<div>\n<style scoped>\n    .dataframe tbody tr th:only-of-type {\n        vertical-align: middle;\n    }\n\n    .dataframe tbody tr th {\n        vertical-align: top;\n    }\n\n    .dataframe thead th {\n        text-align: right;\n    }\n</style>\n<table border=\"1\" class=\"dataframe\">\n  <thead>\n    <tr style=\"text-align: right;\">\n      <th></th>\n      <th>visitor_id</th>\n      <th>site_url</th>\n      <th>page_view_url</th>\n      <th>timestamp</th>\n    </tr>\n  </thead>\n  <tbody>\n    <tr>\n      <th>4160</th>\n      <td>visitor_1</td>\n      <td>www.s_1.com</td>\n      <td>www.s_1.com/page_1</td>\n      <td>1347845487</td>\n    </tr>\n    <tr>\n      <th>7047</th>\n      <td>visitor_1</td>\n      <td>www.s_1.com</td>\n      <td>www.s_1.com/page_2</td>\n      <td>1347845963</td>\n    </tr>\n    <tr>\n      <th>8905</th>\n      <td>visitor_1</td>\n      <td>www.s_1.com</td>\n      <td>www.s_1.com/page_3</td>\n      <td>1347846347</td>\n    </tr>\n    <tr>\n      <th>2030</th>\n      <td>visitor_1000</td>\n      <td>www.s_1.com</td>\n      <td>www.s_1.com/page_1</td>\n      <td>1347845105</td>\n    </tr>\n    <tr>\n      <th>4294</th>\n      <td>visitor_1000</td>\n      <td>www.s_1.com</td>\n      <td>www.s_1.com/page_2</td>\n      <td>1347845507</td>\n    </tr>\n    <tr>\n      <th>...</th>\n      <td>...</td>\n      <td>...</td>\n      <td>...</td>\n      <td>...</td>\n    </tr>\n    <tr>\n      <th>33576</th>\n      <td>visitor_9998</td>\n      <td>www.s_9.com</td>\n      <td>www.s_9.com/page_4</td>\n      <td>1347861429</td>\n    </tr>\n    <tr>\n      <th>33945</th>\n      <td>visitor_9998</td>\n      <td>www.s_9.com</td>\n      <td>www.s_9.com/page_5</td>\n      <td>1347861645</td>\n    </tr>\n    <tr>\n      <th>34708</th>\n      <td>visitor_9998</td>\n      <td>www.s_9.com</td>\n      <td>www.s_9.com/page_6</td>\n      <td>1347862111</td>\n    </tr>\n    <tr>\n      <th>4383</th>\n      <td>visitor_9999</td>\n      <td>www.s_9.com</td>\n      <td>www.s_9.com/page_1</td>\n      <td>1347845516</td>\n    </tr>\n    <tr>\n      <th>7382</th>\n      <td>visitor_9999</td>\n      <td>www.s_9.com</td>\n      <td>www.s_9.com/page_2</td>\n      <td>1347846021</td>\n    </tr>\n  </tbody>\n</table>\n<p>145964 rows × 4 columns</p>\n</div>",
      "text/plain": [
       "         visitor_id     site_url       page_view_url   timestamp\n",
       "4160      visitor_1  www.s_1.com  www.s_1.com/page_1  1347845487\n",
       "7047      visitor_1  www.s_1.com  www.s_1.com/page_2  1347845963\n",
       "8905      visitor_1  www.s_1.com  www.s_1.com/page_3  1347846347\n",
       "2030   visitor_1000  www.s_1.com  www.s_1.com/page_1  1347845105\n",
       "4294   visitor_1000  www.s_1.com  www.s_1.com/page_2  1347845507\n",
       "...             ...          ...                 ...         ...\n",
       "33576  visitor_9998  www.s_9.com  www.s_9.com/page_4  1347861429\n",
       "33945  visitor_9998  www.s_9.com  www.s_9.com/page_5  1347861645\n",
       "34708  visitor_9998  www.s_9.com  www.s_9.com/page_6  1347862111\n",
       "4383   visitor_9999  www.s_9.com  www.s_9.com/page_1  1347845516\n",
       "7382   visitor_9999  www.s_9.com  www.s_9.com/page_2  1347846021\n",
       "\n",
       "[145964 rows x 4 columns]"
      ]
     },
     "metadata": {},
     "execution_count": 6
    }
   ],
   "source": [
    "df.sort_values(by=['site_url', 'visitor_id', 'timestamp'])"
   ]
  },
  {
   "cell_type": "code",
   "execution_count": 7,
   "metadata": {},
   "outputs": [
    {
     "output_type": "error",
     "ename": "TypeError",
     "evalue": "unhashable type: 'slice'",
     "traceback": [
      "\u001b[0;31m---------------------------------------------------------------------------\u001b[0m",
      "\u001b[0;31mTypeError\u001b[0m                                 Traceback (most recent call last)",
      "\u001b[0;32m<ipython-input-7-19edcccd697f>\u001b[0m in \u001b[0;36m<module>\u001b[0;34m\u001b[0m\n\u001b[0;32m----> 1\u001b[0;31m \u001b[0mdf\u001b[0m\u001b[0;34m.\u001b[0m\u001b[0msort_values\u001b[0m\u001b[0;34m(\u001b[0m\u001b[0mby\u001b[0m\u001b[0;34m=\u001b[0m\u001b[0;34m[\u001b[0m\u001b[0;34m'site_url'\u001b[0m\u001b[0;34m,\u001b[0m \u001b[0;34m'visitor_id'\u001b[0m\u001b[0;34m,\u001b[0m \u001b[0;34m'timestamp'\u001b[0m\u001b[0;34m]\u001b[0m\u001b[0;34m)\u001b[0m\u001b[0;34m.\u001b[0m\u001b[0mgroupby\u001b[0m\u001b[0;34m(\u001b[0m\u001b[0;34m\"site_url\"\u001b[0m\u001b[0;34m)\u001b[0m\u001b[0;34m.\u001b[0m\u001b[0mgroups\u001b[0m\u001b[0;34m[\u001b[0m\u001b[0;34m:\u001b[0m\u001b[0;36m100\u001b[0m\u001b[0;34m]\u001b[0m\u001b[0;34m\u001b[0m\u001b[0;34m\u001b[0m\u001b[0m\n\u001b[0m",
      "\u001b[0;31mTypeError\u001b[0m: unhashable type: 'slice'"
     ]
    }
   ],
   "source": [
    "df.sort_values(by=['site_url', 'visitor_id', 'timestamp']).groupby(\"site_url\").groups[:100]"
   ]
  },
  {
   "cell_type": "code",
   "execution_count": 8,
   "metadata": {},
   "outputs": [
    {
     "output_type": "execute_result",
     "data": {
      "text/html": "<div>\n<style scoped>\n    .dataframe tbody tr th:only-of-type {\n        vertical-align: middle;\n    }\n\n    .dataframe tbody tr th {\n        vertical-align: top;\n    }\n\n    .dataframe thead th {\n        text-align: right;\n    }\n</style>\n<table border=\"1\" class=\"dataframe\">\n  <thead>\n    <tr style=\"text-align: right;\">\n      <th></th>\n      <th>visitor_id</th>\n      <th>site_url</th>\n      <th>page_view_url</th>\n      <th>timestamp</th>\n    </tr>\n  </thead>\n  <tbody>\n    <tr>\n      <th>0</th>\n      <td>visitor_3514</td>\n      <td>www.s_9.com</td>\n      <td>www.s_9.com/page_1</td>\n      <td>1347844451</td>\n    </tr>\n    <tr>\n      <th>4</th>\n      <td>visitor_6574</td>\n      <td>www.s_9.com</td>\n      <td>www.s_9.com/page_1</td>\n      <td>1347844460</td>\n    </tr>\n    <tr>\n      <th>18</th>\n      <td>visitor_9046</td>\n      <td>www.s_9.com</td>\n      <td>www.s_9.com/page_1</td>\n      <td>1347844475</td>\n    </tr>\n    <tr>\n      <th>21</th>\n      <td>visitor_7741</td>\n      <td>www.s_9.com</td>\n      <td>www.s_9.com/page_1</td>\n      <td>1347844479</td>\n    </tr>\n    <tr>\n      <th>34</th>\n      <td>visitor_32</td>\n      <td>www.s_9.com</td>\n      <td>www.s_9.com/page_1</td>\n      <td>1347844495</td>\n    </tr>\n    <tr>\n      <th>...</th>\n      <td>...</td>\n      <td>...</td>\n      <td>...</td>\n      <td>...</td>\n    </tr>\n    <tr>\n      <th>48748</th>\n      <td>visitor_1222</td>\n      <td>www.s_9.com</td>\n      <td>www.s_9.com/page_4</td>\n      <td>1347904371</td>\n    </tr>\n    <tr>\n      <th>48750</th>\n      <td>visitor_4363</td>\n      <td>www.s_9.com</td>\n      <td>www.s_9.com/page_5</td>\n      <td>1347904508</td>\n    </tr>\n    <tr>\n      <th>48753</th>\n      <td>visitor_1222</td>\n      <td>www.s_9.com</td>\n      <td>www.s_9.com/page_6</td>\n      <td>1347905334</td>\n    </tr>\n    <tr>\n      <th>48754</th>\n      <td>visitor_1222</td>\n      <td>www.s_9.com</td>\n      <td>www.s_9.com/page_7</td>\n      <td>1347905512</td>\n    </tr>\n    <tr>\n      <th>48756</th>\n      <td>visitor_8335</td>\n      <td>www.s_9.com</td>\n      <td>www.s_9.com/page_4</td>\n      <td>1347910665</td>\n    </tr>\n  </tbody>\n</table>\n<p>14797 rows × 4 columns</p>\n</div>",
      "text/plain": [
       "         visitor_id     site_url       page_view_url   timestamp\n",
       "0      visitor_3514  www.s_9.com  www.s_9.com/page_1  1347844451\n",
       "4      visitor_6574  www.s_9.com  www.s_9.com/page_1  1347844460\n",
       "18     visitor_9046  www.s_9.com  www.s_9.com/page_1  1347844475\n",
       "21     visitor_7741  www.s_9.com  www.s_9.com/page_1  1347844479\n",
       "34       visitor_32  www.s_9.com  www.s_9.com/page_1  1347844495\n",
       "...             ...          ...                 ...         ...\n",
       "48748  visitor_1222  www.s_9.com  www.s_9.com/page_4  1347904371\n",
       "48750  visitor_4363  www.s_9.com  www.s_9.com/page_5  1347904508\n",
       "48753  visitor_1222  www.s_9.com  www.s_9.com/page_6  1347905334\n",
       "48754  visitor_1222  www.s_9.com  www.s_9.com/page_7  1347905512\n",
       "48756  visitor_8335  www.s_9.com  www.s_9.com/page_4  1347910665\n",
       "\n",
       "[14797 rows x 4 columns]"
      ]
     },
     "metadata": {},
     "execution_count": 8
    }
   ],
   "source": [
    "df.groupby(\"site_url\").get_group('www.s_9.com')"
   ]
  },
  {
   "cell_type": "code",
   "execution_count": 10,
   "metadata": {},
   "outputs": [
    {
     "output_type": "execute_result",
     "data": {
      "text/plain": [
       "True"
      ]
     },
     "metadata": {},
     "execution_count": 10
    }
   ],
   "source": [
    "df.groupby(\"site_url\").get_group('www.s_9.com').sort_values(by=['visitor_id', 'timestamp'])[\"visitor_id\"].is_monotonic"
   ]
  },
  {
   "cell_type": "code",
   "execution_count": 17,
   "metadata": {},
   "outputs": [
    {
     "output_type": "execute_result",
     "data": {
      "text/plain": [
       "[('www.s_1.com', 'visitor_1'),\n",
       " ('www.s_1.com', 'visitor_1000'),\n",
       " ('www.s_1.com', 'visitor_10000'),\n",
       " ('www.s_1.com', 'visitor_1002'),\n",
       " ('www.s_1.com', 'visitor_1009'),\n",
       " ('www.s_1.com', 'visitor_1020'),\n",
       " ('www.s_1.com', 'visitor_1021'),\n",
       " ('www.s_1.com', 'visitor_1025'),\n",
       " ('www.s_1.com', 'visitor_1026'),\n",
       " ('www.s_1.com', 'visitor_1028')]"
      ]
     },
     "metadata": {},
     "execution_count": 17
    }
   ],
   "source": [
    "list(df.groupby([\"site_url\", \"visitor_id\"]).groups.keys())[:10]"
   ]
  },
  {
   "cell_type": "code",
   "execution_count": 18,
   "metadata": {},
   "outputs": [
    {
     "output_type": "execute_result",
     "data": {
      "text/html": "<div>\n<style scoped>\n    .dataframe tbody tr th:only-of-type {\n        vertical-align: middle;\n    }\n\n    .dataframe tbody tr th {\n        vertical-align: top;\n    }\n\n    .dataframe thead th {\n        text-align: right;\n    }\n</style>\n<table border=\"1\" class=\"dataframe\">\n  <thead>\n    <tr style=\"text-align: right;\">\n      <th></th>\n      <th>visitor_id</th>\n      <th>site_url</th>\n      <th>page_view_url</th>\n      <th>timestamp</th>\n    </tr>\n  </thead>\n  <tbody>\n    <tr>\n      <th>4160</th>\n      <td>visitor_1</td>\n      <td>www.s_1.com</td>\n      <td>www.s_1.com/page_1</td>\n      <td>1347845487</td>\n    </tr>\n    <tr>\n      <th>7047</th>\n      <td>visitor_1</td>\n      <td>www.s_1.com</td>\n      <td>www.s_1.com/page_2</td>\n      <td>1347845963</td>\n    </tr>\n    <tr>\n      <th>8905</th>\n      <td>visitor_1</td>\n      <td>www.s_1.com</td>\n      <td>www.s_1.com/page_3</td>\n      <td>1347846347</td>\n    </tr>\n  </tbody>\n</table>\n</div>",
      "text/plain": [
       "     visitor_id     site_url       page_view_url   timestamp\n",
       "4160  visitor_1  www.s_1.com  www.s_1.com/page_1  1347845487\n",
       "7047  visitor_1  www.s_1.com  www.s_1.com/page_2  1347845963\n",
       "8905  visitor_1  www.s_1.com  www.s_1.com/page_3  1347846347"
      ]
     },
     "metadata": {},
     "execution_count": 18
    }
   ],
   "source": [
    "df.groupby([\"site_url\", \"visitor_id\"]).get_group(('www.s_1.com', 'visitor_1'))"
   ]
  },
  {
   "cell_type": "code",
   "execution_count": 19,
   "metadata": {},
   "outputs": [],
   "source": [
    "grouped = df[df.site_url == \"www.s_1.com\"].groupby('visitor_id')"
   ]
  },
  {
   "cell_type": "code",
   "execution_count": 20,
   "metadata": {
    "tags": []
   },
   "outputs": [
    {
     "output_type": "stream",
     "name": "stdout",
     "text": [
      "4.999128580093384\n"
     ]
    }
   ],
   "source": [
    "import time\n",
    "sessions = []\n",
    "session_id = 0\n",
    "st = time.time()\n",
    "for group in grouped.groups:\n",
    "    session_id += 1\n",
    "    site_visitor_visits = grouped.get_group(group)\n",
    "    site_visitor_visits = site_visitor_visits.sort_values(by=['timestamp'])\n",
    "    session_start = site_visitor_visits.iloc[0].timestamp\n",
    "    prev_timestamp = session_start\n",
    "    for e in site_visitor_visits.iterrows():\n",
    "        session_duration = e[1].timestamp - session_start\n",
    "\n",
    "        if e[1].timestamp - prev_timestamp > 60 * 30:\n",
    "            session_id += 1\n",
    "            session_start = e[1].timestamp\n",
    "            session_duration = 0\n",
    "        prev_timestamp = e[1].timestamp\n",
    "        sessions.append((e[1].site_url, e[1].visitor_id, session_id, e[1].timestamp, session_duration))\n",
    "        \n",
    "print(time.time() - st)"
   ]
  },
  {
   "cell_type": "code",
   "execution_count": 21,
   "metadata": {},
   "outputs": [
    {
     "output_type": "execute_result",
     "data": {
      "text/html": "<div>\n<style scoped>\n    .dataframe tbody tr th:only-of-type {\n        vertical-align: middle;\n    }\n\n    .dataframe tbody tr th {\n        vertical-align: top;\n    }\n\n    .dataframe thead th {\n        text-align: right;\n    }\n</style>\n<table border=\"1\" class=\"dataframe\">\n  <thead>\n    <tr style=\"text-align: right;\">\n      <th></th>\n      <th>visitor_id</th>\n      <th>site_url</th>\n      <th>page_view_url</th>\n      <th>timestamp</th>\n    </tr>\n  </thead>\n  <tbody>\n    <tr>\n      <th>25573</th>\n      <td>visitor_9996</td>\n      <td>www.s_1.com</td>\n      <td>www.s_1.com/page_1</td>\n      <td>1347859030</td>\n    </tr>\n    <tr>\n      <th>26936</th>\n      <td>visitor_9996</td>\n      <td>www.s_1.com</td>\n      <td>www.s_1.com/page_2</td>\n      <td>1347859528</td>\n    </tr>\n  </tbody>\n</table>\n</div>",
      "text/plain": [
       "         visitor_id     site_url       page_view_url   timestamp\n",
       "25573  visitor_9996  www.s_1.com  www.s_1.com/page_1  1347859030\n",
       "26936  visitor_9996  www.s_1.com  www.s_1.com/page_2  1347859528"
      ]
     },
     "metadata": {},
     "execution_count": 21
    }
   ],
   "source": [
    "site_visitor_visits"
   ]
  },
  {
   "cell_type": "code",
   "execution_count": 22,
   "metadata": {},
   "outputs": [],
   "source": [
    "sessions_df = pd.DataFrame.from_records(sessions, columns=['site_url', 'visitor_id', 'session_id', 'timestamp', 'session_duration'])"
   ]
  },
  {
   "cell_type": "code",
   "execution_count": 23,
   "metadata": {},
   "outputs": [
    {
     "output_type": "execute_result",
     "data": {
      "text/plain": [
       "1353.0"
      ]
     },
     "metadata": {},
     "execution_count": 23
    }
   ],
   "source": [
    "sessions_df.groupby('session_id').last().session_duration.median()"
   ]
  },
  {
   "cell_type": "code",
   "execution_count": 24,
   "metadata": {},
   "outputs": [
    {
     "output_type": "execute_result",
     "data": {
      "text/plain": [
       "3684"
      ]
     },
     "metadata": {},
     "execution_count": 24
    }
   ],
   "source": [
    "len(sessions_df.groupby('session_id'))"
   ]
  },
  {
   "cell_type": "code",
   "execution_count": 25,
   "metadata": {},
   "outputs": [
    {
     "output_type": "execute_result",
     "data": {
      "text/html": "<div>\n<style scoped>\n    .dataframe tbody tr th:only-of-type {\n        vertical-align: middle;\n    }\n\n    .dataframe tbody tr th {\n        vertical-align: top;\n    }\n\n    .dataframe thead th {\n        text-align: right;\n    }\n</style>\n<table border=\"1\" class=\"dataframe\">\n  <thead>\n    <tr style=\"text-align: right;\">\n      <th></th>\n      <th></th>\n      <th>page_view_url</th>\n      <th>timestamp</th>\n    </tr>\n    <tr>\n      <th>visitor_id</th>\n      <th>site_url</th>\n      <th></th>\n      <th></th>\n    </tr>\n  </thead>\n  <tbody>\n    <tr>\n      <th rowspan=\"3\" valign=\"top\">visitor_1</th>\n      <th>www.s_1.com</th>\n      <td>3</td>\n      <td>3</td>\n    </tr>\n    <tr>\n      <th>www.s_10.com</th>\n      <td>3</td>\n      <td>3</td>\n    </tr>\n    <tr>\n      <th>www.s_2.com</th>\n      <td>5</td>\n      <td>5</td>\n    </tr>\n    <tr>\n      <th rowspan=\"2\" valign=\"top\">visitor_10</th>\n      <th>www.s_2.com</th>\n      <td>5</td>\n      <td>5</td>\n    </tr>\n    <tr>\n      <th>www.s_3.com</th>\n      <td>12</td>\n      <td>12</td>\n    </tr>\n    <tr>\n      <th>...</th>\n      <th>...</th>\n      <td>...</td>\n      <td>...</td>\n    </tr>\n    <tr>\n      <th rowspan=\"4\" valign=\"top\">visitor_9998</th>\n      <th>www.s_6.com</th>\n      <td>1</td>\n      <td>1</td>\n    </tr>\n    <tr>\n      <th>www.s_7.com</th>\n      <td>2</td>\n      <td>2</td>\n    </tr>\n    <tr>\n      <th>www.s_8.com</th>\n      <td>5</td>\n      <td>5</td>\n    </tr>\n    <tr>\n      <th>www.s_9.com</th>\n      <td>6</td>\n      <td>6</td>\n    </tr>\n    <tr>\n      <th>visitor_9999</th>\n      <th>www.s_9.com</th>\n      <td>2</td>\n      <td>2</td>\n    </tr>\n  </tbody>\n</table>\n<p>30908 rows × 2 columns</p>\n</div>",
      "text/plain": [
       "                           page_view_url  timestamp\n",
       "visitor_id   site_url                              \n",
       "visitor_1    www.s_1.com               3          3\n",
       "             www.s_10.com              3          3\n",
       "             www.s_2.com               5          5\n",
       "visitor_10   www.s_2.com               5          5\n",
       "             www.s_3.com              12         12\n",
       "...                                  ...        ...\n",
       "visitor_9998 www.s_6.com               1          1\n",
       "             www.s_7.com               2          2\n",
       "             www.s_8.com               5          5\n",
       "             www.s_9.com               6          6\n",
       "visitor_9999 www.s_9.com               2          2\n",
       "\n",
       "[30908 rows x 2 columns]"
      ]
     },
     "metadata": {},
     "execution_count": 25
    }
   ],
   "source": [
    "df.groupby([df.visitor_id, df.site_url]).count()"
   ]
  },
  {
   "cell_type": "code",
   "execution_count": 30,
   "metadata": {},
   "outputs": [],
   "source": [
    "pd.options.display.max_rows = 4000"
   ]
  },
  {
   "cell_type": "code",
   "execution_count": 26,
   "metadata": {},
   "outputs": [
    {
     "output_type": "execute_result",
     "data": {
      "text/html": "<div>\n<style scoped>\n    .dataframe tbody tr th:only-of-type {\n        vertical-align: middle;\n    }\n\n    .dataframe tbody tr th {\n        vertical-align: top;\n    }\n\n    .dataframe thead th {\n        text-align: right;\n    }\n</style>\n<table border=\"1\" class=\"dataframe\">\n  <thead>\n    <tr style=\"text-align: right;\">\n      <th></th>\n      <th>site_url</th>\n      <th>visitor_id</th>\n      <th>session_id</th>\n      <th>timestamp</th>\n      <th>session_duration</th>\n    </tr>\n  </thead>\n  <tbody>\n    <tr>\n      <th>0</th>\n      <td>www.s_1.com</td>\n      <td>visitor_1</td>\n      <td>1</td>\n      <td>1347845487</td>\n      <td>0</td>\n    </tr>\n    <tr>\n      <th>1</th>\n      <td>www.s_1.com</td>\n      <td>visitor_1</td>\n      <td>1</td>\n      <td>1347845963</td>\n      <td>476</td>\n    </tr>\n    <tr>\n      <th>2</th>\n      <td>www.s_1.com</td>\n      <td>visitor_1</td>\n      <td>1</td>\n      <td>1347846347</td>\n      <td>860</td>\n    </tr>\n    <tr>\n      <th>3</th>\n      <td>www.s_1.com</td>\n      <td>visitor_1000</td>\n      <td>2</td>\n      <td>1347845105</td>\n      <td>0</td>\n    </tr>\n    <tr>\n      <th>4</th>\n      <td>www.s_1.com</td>\n      <td>visitor_1000</td>\n      <td>2</td>\n      <td>1347845507</td>\n      <td>402</td>\n    </tr>\n    <tr>\n      <th>5</th>\n      <td>www.s_1.com</td>\n      <td>visitor_1000</td>\n      <td>2</td>\n      <td>1347846003</td>\n      <td>898</td>\n    </tr>\n    <tr>\n      <th>6</th>\n      <td>www.s_1.com</td>\n      <td>visitor_10000</td>\n      <td>3</td>\n      <td>1347881571</td>\n      <td>0</td>\n    </tr>\n    <tr>\n      <th>7</th>\n      <td>www.s_1.com</td>\n      <td>visitor_10000</td>\n      <td>3</td>\n      <td>1347882003</td>\n      <td>432</td>\n    </tr>\n    <tr>\n      <th>8</th>\n      <td>www.s_1.com</td>\n      <td>visitor_10000</td>\n      <td>3</td>\n      <td>1347882465</td>\n      <td>894</td>\n    </tr>\n    <tr>\n      <th>9</th>\n      <td>www.s_1.com</td>\n      <td>visitor_1002</td>\n      <td>4</td>\n      <td>1347866280</td>\n      <td>0</td>\n    </tr>\n  </tbody>\n</table>\n</div>",
      "text/plain": [
       "      site_url     visitor_id  session_id   timestamp  session_duration\n",
       "0  www.s_1.com      visitor_1           1  1347845487                 0\n",
       "1  www.s_1.com      visitor_1           1  1347845963               476\n",
       "2  www.s_1.com      visitor_1           1  1347846347               860\n",
       "3  www.s_1.com   visitor_1000           2  1347845105                 0\n",
       "4  www.s_1.com   visitor_1000           2  1347845507               402\n",
       "5  www.s_1.com   visitor_1000           2  1347846003               898\n",
       "6  www.s_1.com  visitor_10000           3  1347881571                 0\n",
       "7  www.s_1.com  visitor_10000           3  1347882003               432\n",
       "8  www.s_1.com  visitor_10000           3  1347882465               894\n",
       "9  www.s_1.com   visitor_1002           4  1347866280                 0"
      ]
     },
     "metadata": {},
     "execution_count": 26
    }
   ],
   "source": [
    "sessions_df.head(10)"
   ]
  }
 ],
 "metadata": {
  "kernelspec": {
   "display_name": "Python 3.8.6 64-bit ('venv')",
   "language": "python",
   "name": "python38664bitvenv7ec5121dd8a74dbc92ca3ff4cf115c73"
  },
  "language_info": {
   "codemirror_mode": {
    "name": "ipython",
    "version": 3
   },
   "file_extension": ".py",
   "mimetype": "text/x-python",
   "name": "python",
   "nbconvert_exporter": "python",
   "pygments_lexer": "ipython3",
   "version": "3.8.6-final"
  }
 },
 "nbformat": 4,
 "nbformat_minor": 2
}